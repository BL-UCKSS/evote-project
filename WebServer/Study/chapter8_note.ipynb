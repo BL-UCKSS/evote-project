{
 "cells": [
  {
   "cell_type": "markdown",
   "metadata": {},
   "source": [
    "# 뷰 템플릿 적용하기\n",
    "1. ejs 뷰 템플릿 적용하기\n",
    "2. pug 뷰 템플릿 적용하기"
   ]
  },
  {
   "cell_type": "markdown",
   "metadata": {},
   "source": [
    "## ejs 뷰 템플릿 사용하기\n",
    "\n",
    "#### 뷰 템플릿이란?\n",
    "* 응답 웹문서를 미리 뷰 템플레이트로 만들어두고 응답 웹문서를 만들 때 데이터와 템플레이트를 결합하여 만드는 방식 사용"
   ]
  },
  {
   "cell_type": "markdown",
   "metadata": {},
   "source": [
    "```\n",
    "app.set('views', __dirname + '/views');\n",
    "app.set('view engine', 'ejs');\n",
    "```"
   ]
  },
  {
   "cell_type": "code",
   "execution_count": 4,
   "metadata": {
    "collapsed": false
   },
   "outputs": [
    {
     "name": "stdout",
     "output_type": "stream",
     "text": [
      "Writing ./src/views/login_success.ejs\n"
     ]
    }
   ],
   "source": [
    "%%writefile ./src/views/login_success.ejs\n",
    "<!DOCTYPE html>\n",
    "<html>\n",
    "    <head>\n",
    "        <meta charset=\"UTF-8\">\n",
    "        <title>로그인 성공 페이지</title>\n",
    "    </head>\n",
    "    <body>\n",
    "        <h1>로그인 성공</h1>\n",
    "        <div><p>사용자 아이디 : <%= userid %> </p></div>\n",
    "        <div><p>사용자 이름 : <%= username %> </p></div>\n",
    "        <br><br><a href='/public/login.html'>다시 로그인하기</a>\n",
    "    </body>\n",
    "</html>"
   ]
  },
  {
   "cell_type": "code",
   "execution_count": 5,
   "metadata": {
    "collapsed": false
   },
   "outputs": [
    {
     "name": "stdout",
     "output_type": "stream",
     "text": [
      "Overwriting ./src/routes/user.js\n"
     ]
    }
   ],
   "source": [
    "%%writefile ./src/routes/user.js\n",
    "var login = function(req,res){\n",
    "    console.log('/process/login 라우팅 함수 호출됨.');\n",
    "        \n",
    "    var paramId = req.body.id || req.query.id;\n",
    "    var paramPassword = req.body.password || req.query.password;\n",
    "    console.log('요청 파라미터 : ' + paramId + ', ' + paramPassword);    \n",
    "    \n",
    "    var database = req.app.get('database');\n",
    "    if (database) {\n",
    "        authUser(database, paramId, paramPassword, function(err, docs) {\n",
    "            if(err){\n",
    "                console.log('에러 발생.');\n",
    "                res.writeHead(200, {\"Content-Type\":\"text/html;charset=utf-8\"});\n",
    "                res.write('<h1>에러 발생</h1>');\n",
    "                res.end();\n",
    "                return;\n",
    "            }\n",
    "                    \n",
    "            if(docs){\n",
    "                console.dir(docs);\n",
    "                \n",
    "                res.writeHead(200, {\"Content-Type\":\"text/html;charset=utf-8\"});\n",
    "                    \n",
    "                var context = {\n",
    "                    userid: paramId,\n",
    "                    username: docs[0].name\n",
    "                }\n",
    "                req.app.render('login_success', context, function(err, html){\n",
    "                    if(err){\n",
    "                        console.log('뷰 렌더링 중 에러 발생 : ' + err.stack);\n",
    "                        console.log('에러 발생.');\n",
    "                                \n",
    "                        res.writeHead(200, {\"Content-Type\":\"text/html;charset=utf-8\"});\n",
    "                        res.write('<h1>뷰 렌더링 중 에러 발생</h1>');\n",
    "                        res.write('<br><p>' + err.stack + '</p>');\n",
    "                        res.end();\n",
    "                        return;\n",
    "                    }\n",
    "                    res.end(html);\n",
    "                })\n",
    "                \n",
    "            }else{\n",
    "                console.log('에러 발생.');\n",
    "                res.writeHead(200, {\"Content-Type\":\"text/html;charset=utf-8\"});\n",
    "                res.write('<h1>사용자 데이터 조회 안됨.</h1>');\n",
    "                res.end();\n",
    "                return;\n",
    "            }\n",
    "        })    \n",
    "    }else {\n",
    "        console.log('에러 발생.');\n",
    "        res.writeHead(200, {\"Content-Type\":\"text/html;charset=utf-8\"});\n",
    "        res.write('<h1>데이터베이스 연결 안됨.</h1>');\n",
    "        res.end();\n",
    "        return;    \n",
    "    }\n",
    "}\n",
    "\n",
    "var adduser = function(req,res){\n",
    "    console.log('/process/adduser 라우팅 함수 호출됨.');\n",
    "    var paramId=req.body.id || req.query.id;\n",
    "    var paramPassword = req.body.password || req.query.password;\n",
    "    var paramName = req.body.name || req.query.name;\n",
    "        \n",
    "    var database = req.app.get('database');\n",
    "    console.log('요청 파라미터 : ' + paramId + ', ' + paramPassword + ', '+paramName);\n",
    "    if(database) {\n",
    "        addUser(database, paramId, paramPassword, paramName, function(err, result){\n",
    "            if(err) throw err;\n",
    "            if(result){\n",
    "                console.dir(result);\n",
    "                res.writeHead(200, {\"Content-Type\":\"text/html;charset=utf-8\"});\n",
    "                res.write('<h1>사용자 추가 성공</h1>');\n",
    "                res.write('<div><p>사용자 : ' + paramName + '</p></div>');\n",
    "                res.write('<br><br><a href=\"/public/login.html\">다시 로그인하기</a>');\n",
    "                res.end();\n",
    "            } else {\n",
    "                console.log('에러 발생');\n",
    "                res.writeHead(200, {\"Content-Type\":\"text/html;charset=utf-8\"});\n",
    "                res.write('<h1>사용자 추가 안됨</h1>');\n",
    "                res.end();    \n",
    "            }\n",
    "        });\n",
    "    }else {\n",
    "        console.log('에러 발생.');\n",
    "        res.writeHead(200, {\"Content-Type\":\"text/html;charset=utf-8\"});\n",
    "        res.write('<h1>데이터베이스 연결 안됨.</h1>');\n",
    "        res.end();\n",
    "        return;  \n",
    "    }   \n",
    "}\n",
    "\n",
    "var listuser = function(req,res){\n",
    "    console.log('/process/listuser 라우팅 함수 호출됨.');\n",
    "    \n",
    "    var database = req.app.get('database');\n",
    "    if(database) {\n",
    "        database.UserModel.findAll(function(err, results){\n",
    "            if(err){\n",
    "                console.log('에러 발생.');\n",
    "                res.writeHead(200, {\"Content-Type\":\"text/html;charset=utf-8\"});\n",
    "                res.write('<h1>사용자 데이터 조회 안됨.</h1>');\n",
    "                res.end();\n",
    "                return;\n",
    "            }\n",
    "            if(results){\n",
    "                console.dir(results);\n",
    "                res.writeHead(200, {\"Content-Type\":\"text/html;charset=utf-8\"});\n",
    "                res.write(\"<h3>사용자 리스트</h3>\");\n",
    "                res.write(\"<div><ul>\");\n",
    "                for(var i=0; i<results.length; i++){\n",
    "                    var curId = results[i]._doc.id;\n",
    "                    var curName = results[i]._doc.name;\n",
    "                    res.write(\"    <li>#\" + i + \"-> \" + curId + \", \" + curName +\n",
    "                             \"</li>\");\n",
    "                }\n",
    "                res.write(\"</ul></div>\");\n",
    "                res.end();\n",
    "            }else {\n",
    "                console.log('에러 발생.');\n",
    "                res.writeHead(200, {\"Content-Type\":\"text/html;charset=utf-8\"});\n",
    "                res.write('<h1>조회된 사용자 없음.</h1>');\n",
    "                res.end();\n",
    "                return;\n",
    "            }\n",
    "        })\n",
    "    }else{\n",
    "        console.log('에러 발생.');\n",
    "        res.writeHead(200, {\"Content-Type\":\"text/html;charset=utf-8\"});\n",
    "        res.write('<h1>데이터베이스 연결안됨.</h1>');\n",
    "        res.end();\n",
    "        return;\n",
    "    }\n",
    "}\n",
    "\n",
    "var authUser = function(database, id, password, callback) {\n",
    "    console.log('authUser 호출됨 : ' + id + ', ' + password);\n",
    "    \n",
    "    database.UserModel.findById(id, function(err, result) {\n",
    "        if(err) {\n",
    "            callback(err, null);\n",
    "            return;\n",
    "        }\n",
    "        console.log('아이디 %s로 검색됨.');\n",
    "        if(result.length > 0){\n",
    "            var user = new UserModel({id:id})\n",
    "            var authenticated = user.authenticate(password, result[0],_doc.salt, result[0]._doc.hashed_password);\n",
    "                \n",
    "            if(authenticated) {\n",
    "                console.log('비밀번호 일치함.');\n",
    "                callback(null, result);\n",
    "            } else {\n",
    "                console.log('비밀번호 일치하지 않음.');\n",
    "                callback(null, null);\n",
    "            }\n",
    "        }else{\n",
    "            console.log('아이디 일치하는 사용자 없음.');\n",
    "            callback(null, null);\n",
    "        }\n",
    "    });\n",
    "    \n",
    "}\n",
    "\n",
    "var addUser = function(database, id, password, name, callback) {\n",
    "    console.log('addUuser 호출됨 : ' + id + ', ' + password + ', '+ name);\n",
    "    \n",
    "    var user = new database.UserModel({\"id\":id,\"password\":password,\"name\":name});\n",
    "    \n",
    "    user.save(function(err) {\n",
    "        if(err) {\n",
    "            callback(err, null);\n",
    "            return;\n",
    "        }\n",
    "        console.log('사용자 데이터 추가함.');\n",
    "        callback(null, user);\n",
    "    });\n",
    "}\n",
    "\n",
    "module.exports.login = login;\n",
    "module.exports.adduser = adduser;\n",
    "module.exports.listuser = listuser;"
   ]
  },
  {
   "cell_type": "markdown",
   "metadata": {},
   "source": [
    "```                    \n",
    "var context = {\n",
    "    //userid: paramId,\n",
    "    //username: docs[0].name\n",
    "    results: results\n",
    "}\n",
    "req.app.render('login_success', context, function(err, html){\n",
    "    if(err){\n",
    "        console.log('뷰 렌더링 중 에러 발생 : ' + err.stack);\n",
    "        console.log('에러 발생.');\n",
    "\n",
    "        res.writeHead(200, {\"Content-Type\":\"text/html;charset=utf-8\"});\n",
    "        res.write('<h1>뷰 렌더링 중 에러 발생</h1>');\n",
    "        res.write('<br><p>' + err.stack + '</p>');\n",
    "        res.end();\n",
    "        return;\n",
    "    }\n",
    "    res.writeHead(200, {\"Content-Type\":\"text/html;charset=utf-8\"});\n",
    "    res.end(html);\n",
    "})\n",
    "```"
   ]
  },
  {
   "cell_type": "markdown",
   "metadata": {},
   "source": [
    "```\n",
    "<% \n",
    "for (var i=0; i<results.length; i++){\n",
    "    //blahblah\n",
    "    var curId = results[i]._doc.id;\n",
    "    var curName = results[i]._doc.name; \n",
    "%>\n",
    "    <li># <%= i %> - 아이디 : <%=curId %>, 이름 : <%=curName%></li>\n",
    "<%\n",
    "}\n",
    "%>\n",
    "```"
   ]
  },
  {
   "cell_type": "markdown",
   "metadata": {},
   "source": [
    "## pug 뷰 템플레이트 사용하기\n",
    "* 예전 이름은 jade 였음.\n",
    "* 최대한 간단한 형태로 입력하므로 공백과 들여쓰기를 기준으로 태그의 구조가 결정됨\n",
    "* 들여쓰기를 잘못하면 문제 발생함\n",
    "* 모듈 설치하고 뷰 엔진 설정 필요\n",
    "\n",
    "```\n",
    "app.js파일에 아래와 같이 추가해야함\n",
    "\n",
    "app.set('views', __dirname + '/views');\n",
    "app.set('view engine', 'pug');\n",
    "```"
   ]
  },
  {
   "cell_type": "code",
   "execution_count": 8,
   "metadata": {
    "collapsed": false
   },
   "outputs": [
    {
     "name": "stdout",
     "output_type": "stream",
     "text": [
      "Writing ./src/test.js\n"
     ]
    }
   ],
   "source": [
    "%%writefile ./src/test.js\n",
    "var test1 = function(req, res){\n",
    "    console.log('test 모듈 안에 있는 test1 호출됨.');\n",
    "    \n",
    "    var context = {};\n",
    "    req.app.render('test1_success', context, function(err, html) {\n",
    "            console.log('HTML -> ' + html);\n",
    "            \n",
    "            res.writeHead(200, {\"Content-Type\":\"text/html;charset=utf-8\"});\n",
    "            res.end(html);\n",
    "        })\n",
    "}\n",
    "module.exports.test1 = test1;"
   ]
  },
  {
   "cell_type": "code",
   "execution_count": 10,
   "metadata": {
    "collapsed": false
   },
   "outputs": [
    {
     "name": "stdout",
     "output_type": "stream",
     "text": [
      "Overwriting ./src/config.js\n"
     ]
    }
   ],
   "source": [
    "%%writefile ./src/config.js\n",
    "module.exports = {\n",
    "    server_port: 3000,\n",
    "    db_url: 'mongodb://localhost:27017/local',\n",
    "    db_schemas: [\n",
    "        {file:'./user_schema', collection:'users3', schemaName:'UserSchema', modelName:'UserModel'}\n",
    "    ],\n",
    "    route_info: [\n",
    "        //===== User =====//\n",
    "        {file:'./user', path:'/process/login', method:'login', type:'post'} // user.login \n",
    "        ,{file:'./user', path:'/process/adduser', method:'adduser', type:'post'} // user.adduser \n",
    "        ,{file:'./user', path:'/process/listuser', method:'listuser', type:'post'} // user.listuser \n",
    "        ,{file:'./test', path:'/process/test1', method:'test1', type:'get'}\n",
    "    ]\n",
    "}"
   ]
  },
  {
   "cell_type": "code",
   "execution_count": 7,
   "metadata": {
    "collapsed": false
   },
   "outputs": [
    {
     "name": "stdout",
     "output_type": "stream",
     "text": [
      "Writing ./src/views/test1_success.pug\n"
     ]
    }
   ],
   "source": [
    "%%writefile ./src/views/test1_success.pug\n",
    "doctype html\n",
    "\n",
    "html\n",
    "  head\n",
    "    title \"테스트 성공\"\n",
    "  body\n",
    "    block content\n",
    "      #container\n",
    "        p \"조회에 성공했습니다.\""
   ]
  },
  {
   "cell_type": "markdown",
   "metadata": {},
   "source": [
    "D:\\폴더\\학교\\졸프\\evote-project\\WebServer\\Study\\src>npm install pug-cli --save\n",
    "\n",
    "D:\\폴더\\학교\\졸프\\evote-project\\WebServer\\Study\\src>pug test1_success.pug --pretty"
   ]
  },
  {
   "cell_type": "markdown",
   "metadata": {},
   "source": [
    "## ejs 가 유지관리가 더 편하다.\n",
    "## pug는 심플하다"
   ]
  },
  {
   "cell_type": "code",
   "execution_count": null,
   "metadata": {
    "collapsed": true
   },
   "outputs": [],
   "source": []
  }
 ],
 "metadata": {
  "kernelspec": {
   "display_name": "Python [default]",
   "language": "python",
   "name": "python3"
  },
  "language_info": {
   "codemirror_mode": {
    "name": "ipython",
    "version": 3
   },
   "file_extension": ".py",
   "mimetype": "text/x-python",
   "name": "python",
   "nbconvert_exporter": "python",
   "pygments_lexer": "ipython3",
   "version": "3.5.6"
  }
 },
 "nbformat": 4,
 "nbformat_minor": 2
}
