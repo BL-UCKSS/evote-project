{
 "cells": [
  {
   "cell_type": "code",
   "execution_count": 1,
   "metadata": {
    "collapsed": true
   },
   "outputs": [],
   "source": [
    "import requests\n",
    "from io import BytesIO\n",
    "from PIL import Image"
   ]
  },
  {
   "cell_type": "markdown",
   "metadata": {},
   "source": [
    "# 익스프레스 프로젝트를 모듈화하기\n",
    "1. 모듈화 방법 자세히 살펴보기\n",
    "2. 사용자 정보 관련 기능을 모듈화하기\n",
    "3. 설정 파일 만들기\n",
    "4. UI 라이브러리로 웹 문서 예쁘게 꾸미기(생략)"
   ]
  },
  {
   "cell_type": "markdown",
   "metadata": {},
   "source": [
    "# 모듈화 방법 자세히 살펴보기"
   ]
  },
  {
   "cell_type": "code",
   "execution_count": 2,
   "metadata": {
    "collapsed": false
   },
   "outputs": [
    {
     "name": "stdout",
     "output_type": "stream",
     "text": [
      "Writing ./src/user1.js\n"
     ]
    }
   ],
   "source": [
    "%%writefile ./src/user1.js\n",
    "exports.getUser = function() {\n",
    "    return {id:'test01',name:'donggyu'};\n",
    "}\n",
    "\n",
    "exports.group = {id:'group01',name:'friend'};\n"
   ]
  },
  {
   "cell_type": "code",
   "execution_count": 10,
   "metadata": {
    "collapsed": false
   },
   "outputs": [
    {
     "name": "stdout",
     "output_type": "stream",
     "text": [
      "Overwriting ./src/module_test1.js\n"
     ]
    }
   ],
   "source": [
    "%%writefile ./src/module_test1.js\n",
    "var user1 = require('./user1');\n",
    "\n",
    "function showUser() {\n",
    "    return user1.getUser().name + ', ' + user1.group.name;\n",
    "}\n",
    "console.log('User Info -> ' + showUser());\n"
   ]
  },
  {
   "cell_type": "code",
   "execution_count": 11,
   "metadata": {
    "collapsed": false
   },
   "outputs": [
    {
     "name": "stdout",
     "output_type": "stream",
     "text": [
      "User Info -> donggyu, friend\n"
     ]
    }
   ],
   "source": [
    "!node ./src/module_test1.js"
   ]
  },
  {
   "cell_type": "code",
   "execution_count": 5,
   "metadata": {
    "collapsed": false
   },
   "outputs": [
    {
     "name": "stdout",
     "output_type": "stream",
     "text": [
      "Writing ./src/user2.js\n"
     ]
    }
   ],
   "source": [
    "%%writefile ./src/user2.js\n",
    "var user = {\n",
    "    getUser: function() {\n",
    "        return {id:'test01',name:'donggyu'};\n",
    "    },\n",
    "    group: {id:'group01',name:'friend'}\n",
    "}\n",
    "\n",
    "module.exports = user;"
   ]
  },
  {
   "cell_type": "code",
   "execution_count": 12,
   "metadata": {
    "collapsed": false
   },
   "outputs": [
    {
     "name": "stdout",
     "output_type": "stream",
     "text": [
      "Overwriting ./src/module_test2.js\n"
     ]
    }
   ],
   "source": [
    "%%writefile ./src/module_test2.js\n",
    "var user = require('./user2');\n",
    "\n",
    "function showUser() {\n",
    "    return user.getUser().name + ', ' + user.group.name;\n",
    "}\n",
    "console.log('User Info : ' , showUser());"
   ]
  },
  {
   "cell_type": "code",
   "execution_count": 14,
   "metadata": {
    "collapsed": false
   },
   "outputs": [
    {
     "name": "stdout",
     "output_type": "stream",
     "text": [
      "User Info :  donggyu, friend\n"
     ]
    }
   ],
   "source": [
    "!node ./src/module_test2.js"
   ]
  },
  {
   "cell_type": "code",
   "execution_count": 15,
   "metadata": {
    "collapsed": false
   },
   "outputs": [
    {
     "name": "stdout",
     "output_type": "stream",
     "text": [
      "Writing ./src/user3.js\n"
     ]
    }
   ],
   "source": [
    "%%writefile ./src/user3.js\n",
    "module.exports = function() {\n",
    "    return {id:'test01',name:'donggyu'};\n",
    "};\n"
   ]
  },
  {
   "cell_type": "code",
   "execution_count": 16,
   "metadata": {
    "collapsed": false
   },
   "outputs": [
    {
     "name": "stdout",
     "output_type": "stream",
     "text": [
      "Writing ./src/module_test3.js\n"
     ]
    }
   ],
   "source": [
    "%%writefile ./src/module_test3.js\n",
    "var user = require('./user3');\n",
    "\n",
    "function showUser() {\n",
    "    return user().name + ', ' + 'No Group';\n",
    "}\n",
    "\n",
    "console.log('User Info : ' + showUser());"
   ]
  },
  {
   "cell_type": "code",
   "execution_count": 17,
   "metadata": {
    "collapsed": false
   },
   "outputs": [
    {
     "name": "stdout",
     "output_type": "stream",
     "text": [
      "User Info : donggyu, No Group\n"
     ]
    }
   ],
   "source": [
    "!node ./src/module_test3.js"
   ]
  },
  {
   "cell_type": "code",
   "execution_count": 20,
   "metadata": {
    "collapsed": false
   },
   "outputs": [
    {
     "name": "stdout",
     "output_type": "stream",
     "text": [
      "Overwriting ./src/module_test4.js\n"
     ]
    }
   ],
   "source": [
    "%%writefile ./src/module_test4.js\n",
    "var require = function(path) {\n",
    "    var exports = {};\n",
    "    exports.getUser = function() {\n",
    "        return {id:'test01',name:'donggyu'};\n",
    "    };\n",
    "    exports.group = {id:'group01',name:'friend'};    \n",
    "    \n",
    "    return exports;\n",
    "}\n",
    "\n",
    "var user = require('...');\n",
    "\n",
    "function showUser() {\n",
    "    return user.getUser().name + ', ' + user.group.name;\n",
    "}\n",
    "\n",
    "console.log('User Info : ' + showUser());"
   ]
  },
  {
   "cell_type": "code",
   "execution_count": 21,
   "metadata": {
    "collapsed": false
   },
   "outputs": [
    {
     "name": "stdout",
     "output_type": "stream",
     "text": [
      "User Info : donggyu, friend\n"
     ]
    }
   ],
   "source": [
    "!node ./src/module_test4.js"
   ]
  },
  {
   "cell_type": "code",
   "execution_count": 22,
   "metadata": {
    "collapsed": false
   },
   "outputs": [
    {
     "name": "stdout",
     "output_type": "stream",
     "text": [
      "Writing ./src/user4.js\n"
     ]
    }
   ],
   "source": [
    "%%writefile ./src/user4.js\n",
    "exports.printUser = function() {\n",
    "    console.log('user name is donggyu.');\n",
    "};"
   ]
  },
  {
   "cell_type": "code",
   "execution_count": 26,
   "metadata": {
    "collapsed": false
   },
   "outputs": [
    {
     "name": "stdout",
     "output_type": "stream",
     "text": [
      "Overwriting ./src/module_test5.js\n"
     ]
    }
   ],
   "source": [
    "%%writefile ./src/module_test5.js\n",
    "var printUser = require('./user4').printUser;\n",
    "\n",
    "printUser();"
   ]
  },
  {
   "cell_type": "code",
   "execution_count": 27,
   "metadata": {
    "collapsed": false
   },
   "outputs": [
    {
     "name": "stdout",
     "output_type": "stream",
     "text": [
      "user name is donggyu.\n"
     ]
    }
   ],
   "source": [
    "!node ./src/module_test5.js"
   ]
  },
  {
   "cell_type": "code",
   "execution_count": 28,
   "metadata": {
    "collapsed": false
   },
   "outputs": [
    {
     "name": "stdout",
     "output_type": "stream",
     "text": [
      "Writing ./src/user5.js\n"
     ]
    }
   ],
   "source": [
    "%%writefile ./src/user5.js\n",
    "function User(id, name) {\n",
    "    this.id = id;\n",
    "    this.name = name;\n",
    "}\n",
    "\n",
    "User.prototype.getUser = function(){\n",
    "    return {id:this.id,name:this.name};\n",
    "};\n",
    "\n",
    "User.prototype.group = {id:'group01',name:'friend'};\n",
    "\n",
    "User.prototype.printUser = function(){\n",
    "    console.log('user name : ' + this.name + ', group : ' + this.group.name);\n",
    "}\n",
    "\n",
    "module.exports = new User('test01', 'donggyu');\n"
   ]
  },
  {
   "cell_type": "code",
   "execution_count": 29,
   "metadata": {
    "collapsed": false
   },
   "outputs": [
    {
     "name": "stdout",
     "output_type": "stream",
     "text": [
      "Writing ./src/module_test6.js\n"
     ]
    }
   ],
   "source": [
    "%%writefile ./src/module_test6.js\n",
    "var user = require('./user5');\n",
    "\n",
    "user.printUser();\n"
   ]
  },
  {
   "cell_type": "code",
   "execution_count": 30,
   "metadata": {
    "collapsed": false
   },
   "outputs": [
    {
     "name": "stdout",
     "output_type": "stream",
     "text": [
      "user name : donggyu, group : friend\n"
     ]
    }
   ],
   "source": [
    "!node ./src/module_test6.js"
   ]
  },
  {
   "cell_type": "code",
   "execution_count": 31,
   "metadata": {
    "collapsed": false
   },
   "outputs": [
    {
     "name": "stdout",
     "output_type": "stream",
     "text": [
      "Writing ./src/user6.js\n"
     ]
    }
   ],
   "source": [
    "%%writefile ./src/user6.js\n",
    "function User(id, name) {\n",
    "    this.id = id;\n",
    "    this.name = name;\n",
    "}\n",
    "\n",
    "User.prototype.getUser = function(){\n",
    "    return {id:this.id,name:this.name};\n",
    "};\n",
    "\n",
    "User.prototype.group = {id:'group01',name:'friend'};\n",
    "\n",
    "User.prototype.printUser = function(){\n",
    "    console.log('user name : ' + this.name + ', group : ' + this.group.name);\n",
    "}\n",
    "\n",
    "module.exports = User;\n"
   ]
  },
  {
   "cell_type": "code",
   "execution_count": 32,
   "metadata": {
    "collapsed": false
   },
   "outputs": [
    {
     "name": "stdout",
     "output_type": "stream",
     "text": [
      "Writing ./src/module_test7.js\n"
     ]
    }
   ],
   "source": [
    "%%writefile ./src/module_test7.js\n",
    "var User = require('./user6');\n",
    "\n",
    "var user = new User('test01', 'donggyu');\n",
    "\n",
    "user.printUser();"
   ]
  },
  {
   "cell_type": "code",
   "execution_count": 33,
   "metadata": {
    "collapsed": false
   },
   "outputs": [
    {
     "name": "stdout",
     "output_type": "stream",
     "text": [
      "user name : donggyu, group : friend\n"
     ]
    }
   ],
   "source": [
    "!node ./src/module_test7.js"
   ]
  },
  {
   "cell_type": "markdown",
   "metadata": {},
   "source": [
    "# 사용자 정보 관련 기능을 모듈화하기"
   ]
  },
  {
   "cell_type": "code",
   "execution_count": 34,
   "metadata": {
    "collapsed": false
   },
   "outputs": [
    {
     "name": "stdout",
     "output_type": "stream",
     "text": [
      "Writing ./src/database/user_schema.js\n"
     ]
    }
   ],
   "source": [
    "%%writefile ./src/database/user_schema.js\n",
    "\n",
    "var crypto = require('crypto');\n",
    "\n",
    "var Schema = {};\n",
    "\n",
    "Schema.createSchema = function(mongoose) {\n",
    "    console.log('createSchema 호출됨.');\n",
    "    \n",
    "    var UserSchema = mongoose.Schema({\n",
    "        id: {type:String, required:true, unique:true,'default':''},\n",
    "        hashed_password: {type:String, required:true,'default':''},\n",
    "        salt:{type:String,required:true},\n",
    "        name: {type:String, index:'hashed','default':''},\n",
    "        age: {type:Number, 'default':-1},\n",
    "        created_at: {type:Date,index:{unique:false},'default':Date.now()},\n",
    "        updated_at:{type:Date,index:{unique:false},'default':Date.now()}\n",
    "    });\n",
    "    console.log('UserSchema 정의함.');\n",
    "\n",
    "    UserSchema\n",
    "        .virtual('password')\n",
    "        .set(function(password) {\n",
    "            this.salt = this.makeSalt();\n",
    "            this.hashed_password = this.encryptPassword(password);\n",
    "            console.log('virtual password 저장됨 : ' + this.hashed_pasword);\n",
    "        })\n",
    "        //.get()\n",
    "\n",
    "    UserSchema.method('encryptPassword', function(plainText, inSalt){\n",
    "        if(inSalt){\n",
    "            return crypto.createHmac('sha1',inSalt).update(plainText).digest('hex');\n",
    "        } else {\n",
    "            return crypto.createHmac('sha1', this.salt).update(plainText).digest('hex');\n",
    "        }\n",
    "    })\n",
    "\n",
    "    UserSchema.method('makeSalt', function() {\n",
    "        return Math.round((new Date().valueOf() * Math.random())) + '';\n",
    "    });\n",
    "\n",
    "    UserSchema.method('authenticate', function(plainText,inSalt,hashed_password) {\n",
    "        if(inSalt) //salt가 넘어온 경우\n",
    "        {\n",
    "            console.log('authenticate 호출됨.');\n",
    "            return this.encryptPassword(plainText, inSalt) === hashed_password;\n",
    "        } else {\n",
    "            console.log('authenticate 호출됨.');\n",
    "            return this.encryptPassword(plainText) === hashed_password;\n",
    "        }\n",
    "    })\n",
    "\n",
    "    //함수 등록(이후 모델 객체에서 사용가능)\n",
    "    UserSchema.static('findById', function(id, callback) {\n",
    "        return this.find({id:id}, callback);        \n",
    "    });\n",
    "\n",
    "    /*UserSchema.statics.findById = function(id, callback) {\n",
    "        return this.find({id:id}, callback);\n",
    "    }*/\n",
    "\n",
    "    UserSchema.static('findAll', function(callback){\n",
    "        return this.find({}, callback);        \n",
    "    })\n",
    "    \n",
    "    return UserSchema;\n",
    "}\n",
    "\n",
    "module.exports = Schema;"
   ]
  },
  {
   "cell_type": "code",
   "execution_count": 35,
   "metadata": {
    "collapsed": false
   },
   "outputs": [
    {
     "name": "stdout",
     "output_type": "stream",
     "text": [
      "Writing ./src/app11.js\n"
     ]
    }
   ],
   "source": [
    "%%writefile ./src/app11.js\n",
    "var express = require('express')\n",
    ",http = require('http')\n",
    ",path = require('path');\n",
    "\n",
    "var bodyParser = require('body-parser') //추가 설치 필요\n",
    ",static = require('serve-static')\n",
    ",cookieParser = require('cookie-parser')\n",
    ",expressSession = require('express-session')\n",
    "\n",
    "// 에러 핸들러 모듈 사용\n",
    "var expressErrorHandler = require('express-error-handler');\n",
    "\n",
    "// 암호화 모듈\n",
    "var crypto = require('crypto');\n",
    "\n",
    "// mongoose 모듈 사용\n",
    "var mongoose = require('mongoose');\n",
    "\n",
    "var database;\n",
    "var UserSchema;\n",
    "var UserModel\n",
    "\n",
    "function connectDB() {\n",
    "    var databaseUrl = 'mongodb://localhost:27017/local';\n",
    "    \n",
    "    mongoose.Promise = global.Promise;\n",
    "    mongoose.connect(databaseUrl);\n",
    "    database = mongoose.connection;\n",
    "    \n",
    "    database.on('open', function() {\n",
    "        console.log('데이터베이스에 연결됨 : ' + databaseUrl);\n",
    "            \n",
    "        //UserSchema 별도의 모듈파일(user_schema)로 분리함.\n",
    "        createUserSchema(database);\n",
    "    });\n",
    "    \n",
    "    database.on('disconnected', function(){\n",
    "        console.log('데이터베이스 연결 끊어짐.');    \n",
    "    })\n",
    "    \n",
    "    database.on('error', console.error.bind(console, 'mongoose 연결 에러.'));\n",
    "}\n",
    "\n",
    "function createUserSchema(database) {\n",
    "    //database의 속성으로 넣어주기.\n",
    "    database.UserSchema = require('./database/user_schema').createSchema(mongoose);\n",
    "    \n",
    "    database.UserModel = mongoose.model('users3', database.UserSchema);\n",
    "    console.log('UserModel 정의함.');\n",
    "    \n",
    "}\n",
    "\n",
    "var app = express();\n",
    "\n",
    "app.set('port', process.env.PORT || 3000);\n",
    "app.use('/public', static(path.join(__dirname, 'public'))); //middleware\n",
    "\n",
    "//외장 모듈 미들웨어 등록(body로 들어가는 파라미터를 처리하기 위함)\n",
    "app.use(bodyParser.urlencoded({extended:false}));\n",
    "app.use(bodyParser.json());\n",
    "\n",
    "app.use(cookieParser());\n",
    "app.use(expressSession({\n",
    "    secret:'my key',\n",
    "    resave:true,\n",
    "    saveUninitialized:true\n",
    "}));\n",
    "\n",
    "\n",
    "\n",
    "var router = express.Router();\n",
    "\n",
    "router.route('/process/adduser').post(function(req,res){\n",
    "    console.log('/process/adduser 라우팅 함수 호출됨.');\n",
    "    var paramId=req.body.id || req.query.id;\n",
    "    var paramPassword = req.body.password || req.query.password;\n",
    "    var paramName = req.body.name || req.query.name;\n",
    "        \n",
    "    console.log('요청 파라미터 : ' + paramId + ', ' + paramPassword + ', '+paramName);\n",
    "    if(database) {\n",
    "        addUser(database, paramId, paramPassword, paramName, function(err, result){\n",
    "            if(err) throw err;\n",
    "            if(result){\n",
    "                console.dir(result);\n",
    "                res.writeHead(200, {\"Content-Type\":\"text/html;charset=utf-8\"});\n",
    "                res.write('<h1>사용자 추가 성공</h1>');\n",
    "                res.write('<div><p>사용자 : ' + paramName + '</p></div>');\n",
    "                res.write('<br><br><a href=\"/public/login.html\">다시 로그인하기</a>');\n",
    "                res.end();\n",
    "            } else {\n",
    "                console.log('에러 발생');\n",
    "                res.writeHead(200, {\"Content-Type\":\"text/html;charset=utf-8\"});\n",
    "                res.write('<h1>사용자 추가 안됨</h1>');\n",
    "                res.end();    \n",
    "            }\n",
    "        });\n",
    "    }else {\n",
    "        console.log('에러 발생.');\n",
    "        res.writeHead(200, {\"Content-Type\":\"text/html;charset=utf-8\"});\n",
    "        res.write('<h1>데이터베이스 연결 안됨.</h1>');\n",
    "        res.end();\n",
    "        return;  \n",
    "    }   \n",
    "})\n",
    "\n",
    "router.route('/process/login').post(function(req,res){\n",
    "    console.log('/process/login 라우팅 함수 호출됨.');\n",
    "        \n",
    "    var paramId = req.body.id || req.query.id;\n",
    "    var paramPassword = req.body.password || req.query.password;\n",
    "    console.log('요청 파라미터 : ' + paramId + ', ' + paramPassword);    \n",
    "    \n",
    "    if (database) {\n",
    "        authUser(database, paramId, paramPassword, function(err, docs) {\n",
    "            if(err){\n",
    "                console.log('에러 발생.');\n",
    "                res.writeHead(200, {\"Content-Type\":\"text/html;charset=utf-8\"});\n",
    "                res.write('<h1>에러 발생</h1>');\n",
    "                res.end();\n",
    "                return;\n",
    "            }\n",
    "                    \n",
    "            if(docs){\n",
    "                console.dir(docs);\n",
    "                res.writeHead(200, {\"Content-Type\":\"text/html;charset=utf-8\"});\n",
    "                res.write('<h1>사용자 로그인 성공</h1>');\n",
    "                res.write('<div><p>사용자 : ' + docs[0].name + '</p></div>')\n",
    "                res.write('<br><br><a href=\"/public/login.html\">다시 로그인하기</a>');\n",
    "                res.end();\n",
    "                return;\n",
    "            }else{\n",
    "                console.log('에러 발생.');\n",
    "                res.writeHead(200, {\"Content-Type\":\"text/html;charset=utf-8\"});\n",
    "                res.write('<h1>사용자 데이터 조회 안됨.</h1>');\n",
    "                res.end();\n",
    "                return;\n",
    "            }\n",
    "        })    \n",
    "    }else {\n",
    "        console.log('에러 발생.');\n",
    "        res.writeHead(200, {\"Content-Type\":\"text/html;charset=utf-8\"});\n",
    "        res.write('<h1>데이터베이스 연결 안됨.</h1>');\n",
    "        res.end();\n",
    "        return;    \n",
    "    }\n",
    "})\n",
    "\n",
    "router.route('/process/listuser').get(function(req,res){\n",
    "    console.log('/process/listuser 라우팅 함수 호출됨.');\n",
    "    if(database) {\n",
    "        UserModel.findAll(function(err, results){\n",
    "            if(err){\n",
    "                console.log('에러 발생.');\n",
    "                res.writeHead(200, {\"Content-Type\":\"text/html;charset=utf-8\"});\n",
    "                res.write('<h1>사용자 데이터 조회 안됨.</h1>');\n",
    "                res.end();\n",
    "                return;\n",
    "            }\n",
    "            if(results){\n",
    "                console.dir(results);\n",
    "                res.writeHead(200, {\"Content-Type\":\"text/html;charset=utf-8\"});\n",
    "                res.write(\"<h3>사용자 리스트</h3>\");\n",
    "                res.write(\"<div><ul>\");\n",
    "                for(var i=0; i<results.length; i++){\n",
    "                    var curId = results[i]._doc.id;\n",
    "                    var curName = results[i]._doc.name;\n",
    "                    res.write(\"    <li>#\" + i + \"-> \" + curId + \", \" + curName +\n",
    "                             \"</li>\");\n",
    "                }\n",
    "                res.write(\"</ul></div>\");\n",
    "                res.end();\n",
    "            }else {\n",
    "                console.log('에러 발생.');\n",
    "                res.writeHead(200, {\"Content-Type\":\"text/html;charset=utf-8\"});\n",
    "                res.write('<h1>조회된 사용자 없음.</h1>');\n",
    "                res.end();\n",
    "                return;\n",
    "            }\n",
    "        })\n",
    "    }else{\n",
    "        console.log('에러 발생.');\n",
    "        res.writeHead(200, {\"Content-Type\":\"text/html;charset=utf-8\"});\n",
    "        res.write('<h1>데이터베이스 연결안됨.</h1>');\n",
    "        res.end();\n",
    "        return;\n",
    "    }\n",
    "})\n",
    "\n",
    "app.use('/', router);\n",
    "\n",
    "var authUser = function(database, id, password, callback) {\n",
    "    console.log('authUser 호출됨 : ' + id + ', ' + password);\n",
    "    \n",
    "    UserModel.findById(id, function(err, result) {\n",
    "        if(err) {\n",
    "            callback(err, null);\n",
    "            return;\n",
    "        }\n",
    "        console.log('아이디 %s로 검색됨.');\n",
    "        if(result.length > 0){\n",
    "            var user = new UserModel({id:id})\n",
    "            var authenticated = user.authenticate(password, result[0],_doc.salt, result[0]._doc.hashed_password);\n",
    "                \n",
    "            if(authenticated) {\n",
    "                console.log('비밀번호 일치함.');\n",
    "                callback(null, result);\n",
    "            } else {\n",
    "                console.log('비밀번호 일치하지 않음.');\n",
    "                callback(null, null);\n",
    "            }\n",
    "        }else{\n",
    "            console.log('아이디 일치하는 사용자 없음.');\n",
    "            callback(null, null);\n",
    "        }\n",
    "    });\n",
    "    \n",
    "}\n",
    "\n",
    "var addUser = function(database, id, password, name, callback) {\n",
    "    console.log('addUuser 호출됨 : ' + id + ', ' + password + ', '+ name);\n",
    "    \n",
    "    var user = new UserModel({\"id\":id,\"password\":password,\"name\":name});\n",
    "    \n",
    "    user.save(function(err) {\n",
    "        if(err) {\n",
    "            callback(err, null);\n",
    "            return;\n",
    "        }\n",
    "        console.log('사용자 데이터 추가함.');\n",
    "        callback(null, user);\n",
    "    });\n",
    "}\n",
    "\n",
    "// 404 에러 페이지 처리\n",
    "var errorHandler = expressErrorHandler({\n",
    "    static: {\n",
    "        '404': './public/404.html'\n",
    "    }\n",
    "});\n",
    "\n",
    "app.use( expressErrorHandler.httpError(404) );\n",
    "app.use( errorHandler );\n",
    "\n",
    "//app.get 은 app.set으로 설정한 속성의 값을 가져오는 것\n",
    "var server = http.createServer(app).listen(app.get('port'), function(){\n",
    "    console.log('익스프레스로 웹 서버를 실행함 : ' + app.get('port'));\n",
    "    \n",
    "    //서버 실행되고 나서 데이터베이스 실행한다. (데이터베이스 먼저 실행해도 됨)\n",
    "    connectDB();\n",
    "})"
   ]
  },
  {
   "cell_type": "markdown",
   "metadata": {},
   "source": [
    "## 라우팅 함수 모듈화"
   ]
  },
  {
   "cell_type": "code",
   "execution_count": 36,
   "metadata": {
    "collapsed": false
   },
   "outputs": [
    {
     "name": "stdout",
     "output_type": "stream",
     "text": [
      "Writing ./src/routes/user.js\n"
     ]
    }
   ],
   "source": [
    "%%writefile ./src/routes/user.js\n",
    "var login = function(req,res){\n",
    "    console.log('/process/login 라우팅 함수 호출됨.');\n",
    "        \n",
    "    var paramId = req.body.id || req.query.id;\n",
    "    var paramPassword = req.body.password || req.query.password;\n",
    "    console.log('요청 파라미터 : ' + paramId + ', ' + paramPassword);    \n",
    "    \n",
    "    var database = req.app.get('database');\n",
    "    if (database) {\n",
    "        authUser(database, paramId, paramPassword, function(err, docs) {\n",
    "            if(err){\n",
    "                console.log('에러 발생.');\n",
    "                res.writeHead(200, {\"Content-Type\":\"text/html;charset=utf-8\"});\n",
    "                res.write('<h1>에러 발생</h1>');\n",
    "                res.end();\n",
    "                return;\n",
    "            }\n",
    "                    \n",
    "            if(docs){\n",
    "                console.dir(docs);\n",
    "                res.writeHead(200, {\"Content-Type\":\"text/html;charset=utf-8\"});\n",
    "                res.write('<h1>사용자 로그인 성공</h1>');\n",
    "                res.write('<div><p>사용자 : ' + docs[0].name + '</p></div>')\n",
    "                res.write('<br><br><a href=\"/public/login.html\">다시 로그인하기</a>');\n",
    "                res.end();\n",
    "                return;\n",
    "            }else{\n",
    "                console.log('에러 발생.');\n",
    "                res.writeHead(200, {\"Content-Type\":\"text/html;charset=utf-8\"});\n",
    "                res.write('<h1>사용자 데이터 조회 안됨.</h1>');\n",
    "                res.end();\n",
    "                return;\n",
    "            }\n",
    "        })    \n",
    "    }else {\n",
    "        console.log('에러 발생.');\n",
    "        res.writeHead(200, {\"Content-Type\":\"text/html;charset=utf-8\"});\n",
    "        res.write('<h1>데이터베이스 연결 안됨.</h1>');\n",
    "        res.end();\n",
    "        return;    \n",
    "    }\n",
    "}\n",
    "\n",
    "var adduser = function(req,res){\n",
    "    console.log('/process/adduser 라우팅 함수 호출됨.');\n",
    "    var paramId=req.body.id || req.query.id;\n",
    "    var paramPassword = req.body.password || req.query.password;\n",
    "    var paramName = req.body.name || req.query.name;\n",
    "        \n",
    "    var database = req.app.get('database');\n",
    "    console.log('요청 파라미터 : ' + paramId + ', ' + paramPassword + ', '+paramName);\n",
    "    if(database) {\n",
    "        addUser(database, paramId, paramPassword, paramName, function(err, result){\n",
    "            if(err) throw err;\n",
    "            if(result){\n",
    "                console.dir(result);\n",
    "                res.writeHead(200, {\"Content-Type\":\"text/html;charset=utf-8\"});\n",
    "                res.write('<h1>사용자 추가 성공</h1>');\n",
    "                res.write('<div><p>사용자 : ' + paramName + '</p></div>');\n",
    "                res.write('<br><br><a href=\"/public/login.html\">다시 로그인하기</a>');\n",
    "                res.end();\n",
    "            } else {\n",
    "                console.log('에러 발생');\n",
    "                res.writeHead(200, {\"Content-Type\":\"text/html;charset=utf-8\"});\n",
    "                res.write('<h1>사용자 추가 안됨</h1>');\n",
    "                res.end();    \n",
    "            }\n",
    "        });\n",
    "    }else {\n",
    "        console.log('에러 발생.');\n",
    "        res.writeHead(200, {\"Content-Type\":\"text/html;charset=utf-8\"});\n",
    "        res.write('<h1>데이터베이스 연결 안됨.</h1>');\n",
    "        res.end();\n",
    "        return;  \n",
    "    }   \n",
    "}\n",
    "\n",
    "var listuser = function(req,res){\n",
    "    console.log('/process/listuser 라우팅 함수 호출됨.');\n",
    "    \n",
    "    var database = req.app.get('database');\n",
    "    if(database) {\n",
    "        database.UserModel.findAll(function(err, results){\n",
    "            if(err){\n",
    "                console.log('에러 발생.');\n",
    "                res.writeHead(200, {\"Content-Type\":\"text/html;charset=utf-8\"});\n",
    "                res.write('<h1>사용자 데이터 조회 안됨.</h1>');\n",
    "                res.end();\n",
    "                return;\n",
    "            }\n",
    "            if(results){\n",
    "                console.dir(results);\n",
    "                res.writeHead(200, {\"Content-Type\":\"text/html;charset=utf-8\"});\n",
    "                res.write(\"<h3>사용자 리스트</h3>\");\n",
    "                res.write(\"<div><ul>\");\n",
    "                for(var i=0; i<results.length; i++){\n",
    "                    var curId = results[i]._doc.id;\n",
    "                    var curName = results[i]._doc.name;\n",
    "                    res.write(\"    <li>#\" + i + \"-> \" + curId + \", \" + curName +\n",
    "                             \"</li>\");\n",
    "                }\n",
    "                res.write(\"</ul></div>\");\n",
    "                res.end();\n",
    "            }else {\n",
    "                console.log('에러 발생.');\n",
    "                res.writeHead(200, {\"Content-Type\":\"text/html;charset=utf-8\"});\n",
    "                res.write('<h1>조회된 사용자 없음.</h1>');\n",
    "                res.end();\n",
    "                return;\n",
    "            }\n",
    "        })\n",
    "    }else{\n",
    "        console.log('에러 발생.');\n",
    "        res.writeHead(200, {\"Content-Type\":\"text/html;charset=utf-8\"});\n",
    "        res.write('<h1>데이터베이스 연결안됨.</h1>');\n",
    "        res.end();\n",
    "        return;\n",
    "    }\n",
    "}\n",
    "\n",
    "var authUser = function(database, id, password, callback) {\n",
    "    console.log('authUser 호출됨 : ' + id + ', ' + password);\n",
    "    \n",
    "    database.UserModel.findById(id, function(err, result) {\n",
    "        if(err) {\n",
    "            callback(err, null);\n",
    "            return;\n",
    "        }\n",
    "        console.log('아이디 %s로 검색됨.');\n",
    "        if(result.length > 0){\n",
    "            var user = new UserModel({id:id})\n",
    "            var authenticated = user.authenticate(password, result[0],_doc.salt, result[0]._doc.hashed_password);\n",
    "                \n",
    "            if(authenticated) {\n",
    "                console.log('비밀번호 일치함.');\n",
    "                callback(null, result);\n",
    "            } else {\n",
    "                console.log('비밀번호 일치하지 않음.');\n",
    "                callback(null, null);\n",
    "            }\n",
    "        }else{\n",
    "            console.log('아이디 일치하는 사용자 없음.');\n",
    "            callback(null, null);\n",
    "        }\n",
    "    });\n",
    "    \n",
    "}\n",
    "\n",
    "var addUser = function(database, id, password, name, callback) {\n",
    "    console.log('addUuser 호출됨 : ' + id + ', ' + password + ', '+ name);\n",
    "    \n",
    "    var user = new database.UserModel({\"id\":id,\"password\":password,\"name\":name});\n",
    "    \n",
    "    user.save(function(err) {\n",
    "        if(err) {\n",
    "            callback(err, null);\n",
    "            return;\n",
    "        }\n",
    "        console.log('사용자 데이터 추가함.');\n",
    "        callback(null, user);\n",
    "    });\n",
    "}\n",
    "\n",
    "module.exports.login = login;\n",
    "module.exports.adduser = adduser;\n",
    "module.exports.listuser = listuser;"
   ]
  },
  {
   "cell_type": "code",
   "execution_count": 37,
   "metadata": {
    "collapsed": false
   },
   "outputs": [
    {
     "name": "stdout",
     "output_type": "stream",
     "text": [
      "Writing ./src/app12.js\n"
     ]
    }
   ],
   "source": [
    "%%writefile ./src/app12.js\n",
    "var express = require('express')\n",
    ",http = require('http')\n",
    ",path = require('path');\n",
    "\n",
    "var bodyParser = require('body-parser') //추가 설치 필요\n",
    ",static = require('serve-static')\n",
    ",cookieParser = require('cookie-parser')\n",
    ",expressSession = require('express-session')\n",
    "\n",
    "// 에러 핸들러 모듈 사용\n",
    "var expressErrorHandler = require('express-error-handler');\n",
    "\n",
    "var user = require('./routes/user');\n",
    "\n",
    "// 암호화 모듈\n",
    "var crypto = require('crypto');\n",
    "\n",
    "// mongoose 모듈 사용\n",
    "var mongoose = require('mongoose');\n",
    "\n",
    "var database;\n",
    "\n",
    "function connectDB() {\n",
    "    var databaseUrl = 'mongodb://localhost:27017/local';\n",
    "    \n",
    "    mongoose.Promise = global.Promise;\n",
    "    mongoose.connect(databaseUrl);\n",
    "    database = mongoose.connection;\n",
    "    \n",
    "    database.on('open', function() {\n",
    "        console.log('데이터베이스에 연결됨 : ' + databaseUrl);\n",
    "            \n",
    "        //UserSchema 별도의 모듈파일(user_schema)로 분리함.\n",
    "        createUserSchema(database);\n",
    "    });\n",
    "    \n",
    "    database.on('disconnected', function(){\n",
    "        console.log('데이터베이스 연결 끊어짐.');    \n",
    "    })\n",
    "    \n",
    "    database.on('error', console.error.bind(console, 'mongoose 연결 에러.'));\n",
    "    \n",
    "    app.set('database', database);\n",
    "}\n",
    "\n",
    "function createUserSchema(database) {\n",
    "    //database의 속성으로 넣어주기.\n",
    "    database.UserSchema = require('./database/user_schema').createSchema(mongoose);\n",
    "    \n",
    "    database.UserModel = mongoose.model('users3', database.UserSchema);\n",
    "    console.log('UserModel 정의함.');\n",
    "}\n",
    "\n",
    "var app = express();\n",
    "\n",
    "app.set('port', process.env.PORT || 3000);\n",
    "app.use('/public', static(path.join(__dirname, 'public'))); //middleware\n",
    "\n",
    "//외장 모듈 미들웨어 등록(body로 들어가는 파라미터를 처리하기 위함)\n",
    "app.use(bodyParser.urlencoded({extended:false}));\n",
    "app.use(bodyParser.json());\n",
    "\n",
    "app.use(cookieParser());\n",
    "app.use(expressSession({\n",
    "    secret:'my key',\n",
    "    resave:true,\n",
    "    saveUninitialized:true\n",
    "}));\n",
    "\n",
    "var router = express.Router();\n",
    "\n",
    "router.route('/process/adduser').post(user.adduser);\n",
    "\n",
    "router.route('/process/login').post(user.login);\n",
    "\n",
    "router.route('/process/listuser').get(user.listuser);\n",
    "\n",
    "app.use('/', router);\n",
    "\n",
    "// 404 에러 페이지 처리\n",
    "var errorHandler = expressErrorHandler({\n",
    "    static: {\n",
    "        '404': './public/404.html'\n",
    "    }\n",
    "});\n",
    "\n",
    "app.use( expressErrorHandler.httpError(404) );\n",
    "app.use( errorHandler );\n",
    "\n",
    "//app.get 은 app.set으로 설정한 속성의 값을 가져오는 것\n",
    "var server = http.createServer(app).listen(app.get('port'), function(){\n",
    "    console.log('익스프레스로 웹 서버를 실행함 : ' + app.get('port'));\n",
    "    \n",
    "    //서버 실행되고 나서 데이터베이스 실행한다. (데이터베이스 먼저 실행해도 됨)\n",
    "    connectDB();\n",
    "})"
   ]
  },
  {
   "cell_type": "markdown",
   "metadata": {},
   "source": [
    "# 설정 파일 만들기"
   ]
  },
  {
   "cell_type": "code",
   "execution_count": 43,
   "metadata": {
    "collapsed": false
   },
   "outputs": [
    {
     "name": "stdout",
     "output_type": "stream",
     "text": [
      "Overwriting ./src/config.js\n"
     ]
    }
   ],
   "source": [
    "%%writefile ./src/config.js\n",
    "module.exports = {\n",
    "    server_port: 3000,\n",
    "    db_url: 'mongodb://localhost:27017/local',\n",
    "    db_schemas: [\n",
    "        {file:'./user_schema', collection:'users3', schemaName:'UserSchema', modelName:'UserModel'}\n",
    "    ],\n",
    "    route_info: [\n",
    "        //===== User =====//\n",
    "        {file:'./user', path:'/process/login', method:'login', type:'post'}\t\t\t\t\t// user.login \n",
    "        ,{file:'./user', path:'/process/adduser', method:'adduser', type:'post'}\t\t\t\t// user.adduser \n",
    "        ,{file:'./user', path:'/process/listuser', method:'listuser', type:'post'}\t\t\t// user.listuser \n",
    "    ]\n",
    "}"
   ]
  },
  {
   "cell_type": "code",
   "execution_count": 48,
   "metadata": {
    "collapsed": false
   },
   "outputs": [
    {
     "name": "stdout",
     "output_type": "stream",
     "text": [
      "Overwriting ./src/database/database_loader.js\n"
     ]
    }
   ],
   "source": [
    "%%writefile ./src/database/database_loader.js\n",
    "var mongoose = require('mongoose');\n",
    "\n",
    "var database = {};\n",
    "\n",
    "database.init = function(app, config){\n",
    "    console.log('init 호출됨.');\n",
    "    \n",
    "    connect(app, config);\n",
    "}\n",
    "\n",
    "function connect(app, config){\n",
    "    console.log('connect 호출됨.');\n",
    "    \n",
    "    mongoose.Promise = global.Promise;\n",
    "    mongoose.connect(config.db_url);\n",
    "    database.db = mongoose.connection;\n",
    "    \n",
    "    database.db.on('open', function() {\n",
    "        console.log('데이터베이스에 연결됨 : ' + config.db_url);\n",
    "            \n",
    "        createSchema(app, config);\n",
    "    });\n",
    "    \n",
    "    database.db.on('disconnected', function(){\n",
    "        console.log('데이터베이스 연결 끊어짐.');    \n",
    "    })\n",
    "    \n",
    "    database.db.on('error', console.error.bind(console, 'mongoose 연결 에러.'));\n",
    "    \n",
    "}\n",
    "\n",
    "function createSchema(app, config){\n",
    "    console.log('설정의 DB 스키마 수 : ' + config.db_schemas.length);\n",
    "    for(var i =0; i<config.db_schemas.legnth; i++){\n",
    "        var curItem = config.db_schemas[i];\n",
    "        \n",
    "        var curSchema = require(curItem.file).createSchema(mongoose);\n",
    "        console.log('%s 모듈을 이용해 스키마 생성함.', curItem.file);\n",
    "        \n",
    "        var curModel = mongoose.model(curItem.collection, curSchema);\n",
    "        console.log('%s 컬렉션을 위해 모델 정의함.', curItem.collection);\n",
    "        \n",
    "        database[curItem.schemaName] = curSchema;\n",
    "        database[curItem.modelName] = curModel;\n",
    "        console.log('스키마 [%s], 모델 [%s] 생성됨.', curItem.schemaName, curItem.modelName);\n",
    "    }\n",
    "    app.set('database', database);\n",
    "}\n",
    "\n",
    "module.exports = database;"
   ]
  },
  {
   "cell_type": "code",
   "execution_count": 46,
   "metadata": {
    "collapsed": false
   },
   "outputs": [
    {
     "name": "stdout",
     "output_type": "stream",
     "text": [
      "Overwriting ./src/routes/route_loader.js\n"
     ]
    }
   ],
   "source": [
    "%%writefile ./src/routes/route_loader.js\n",
    "var route_loader = {};\n",
    "\n",
    "var config = require('../config');\n",
    "\n",
    "route_loader.init = function(app, router){\n",
    "    console.log('route_loader.init 호출됨.');\n",
    "    \n",
    "    initRoutes(app, router);\n",
    "}\n",
    "\n",
    "function initRoutes(app, router) {\n",
    "    console.log('initRoutes 호출됨.');\n",
    "    \n",
    "    for(var i=0; i<config.route_info.length; i++){\n",
    "        var curItem = config.route_info[i];\n",
    "        \n",
    "        var curModule = require(curItem.file);\n",
    "        if(curItem.type == 'get'){\n",
    "            router.route(curItem.path).get(curModule[curItem.method]);\n",
    "        }else if (curItem.type == 'post') {\n",
    "            router.route(curItem.path).post(curModule[curItem.method]);\n",
    "        }else {\n",
    "            console.log('라우팅 함수의 타입을 알 수 없습니다.: '+curItem.type);\n",
    "        }\n",
    "    }\n",
    "    \n",
    "    app.use('/', router);\n",
    "}\n",
    "\n",
    "module.exports = route_loader;"
   ]
  },
  {
   "cell_type": "code",
   "execution_count": 45,
   "metadata": {
    "collapsed": false
   },
   "outputs": [
    {
     "name": "stdout",
     "output_type": "stream",
     "text": [
      "Overwriting ./src/app13.js\n"
     ]
    }
   ],
   "source": [
    "%%writefile ./src/app13.js\n",
    "var express = require('express')\n",
    ",http = require('http')\n",
    ",path = require('path');\n",
    "\n",
    "var bodyParser = require('body-parser') //추가 설치 필요\n",
    ",static = require('serve-static')\n",
    ",cookieParser = require('cookie-parser')\n",
    ",expressSession = require('express-session')\n",
    "\n",
    "// 에러 핸들러 모듈 사용\n",
    "var expressErrorHandler = require('express-error-handler');\n",
    "\n",
    "var user = require('./routes/user');\n",
    "\n",
    "var config = require('./config');\n",
    "\n",
    "var database_loader = require('./database/database_loader');\n",
    "var route_loader = require('./routes/route_loader');\n",
    "\n",
    "// 암호화 모듈\n",
    "var crypto = require('crypto');\n",
    "\n",
    "// mongoose 모듈 사용\n",
    "var mongoose = require('mongoose');\n",
    "\n",
    "var database;\n",
    "\n",
    "function connectDB() {\n",
    "    //\n",
    "    app.set('database', database);\n",
    "}\n",
    "\n",
    "function createUserSchema(database) {\n",
    "    //database의 속성으로 넣어주기.\n",
    "    database.UserSchema = require('./database/user_schema').createSchema(mongoose);\n",
    "    \n",
    "    database.UserModel = mongoose.model('users3', database.UserSchema);\n",
    "    console.log('UserModel 정의함.');\n",
    "}\n",
    "\n",
    "var app = express();\n",
    "\n",
    "console.log('config.server_port -> ' + config.server_port);\n",
    "app.set('port', config.server_port || 3000);\n",
    "app.use('/public', static(path.join(__dirname, 'public'))); //middleware\n",
    "\n",
    "//외장 모듈 미들웨어 등록(body로 들어가는 파라미터를 처리하기 위함)\n",
    "app.use(bodyParser.urlencoded({extended:false}));\n",
    "app.use(bodyParser.json());\n",
    "\n",
    "app.use(cookieParser());\n",
    "app.use(expressSession({\n",
    "    secret:'my key',\n",
    "    resave:true,\n",
    "    saveUninitialized:true\n",
    "}));\n",
    "\n",
    "route_loader.init(app, express.Router());\n",
    "\n",
    "// 404 에러 페이지 처리\n",
    "var errorHandler = expressErrorHandler({\n",
    "    static: {\n",
    "        '404': './public/404.html'\n",
    "    }\n",
    "});\n",
    "\n",
    "app.use( expressErrorHandler.httpError(404) );\n",
    "app.use( errorHandler );\n",
    "\n",
    "//app.get 은 app.set으로 설정한 속성의 값을 가져오는 것\n",
    "var server = http.createServer(app).listen(app.get('port'), function(){\n",
    "    console.log('익스프레스로 웹 서버를 실행함 : ' + app.get('port'));\n",
    "    \n",
    "    //서버 실행되고 나서 데이터베이스 실행한다. (데이터베이스 먼저 실행해도 됨)\n",
    "    database_loader.init(app, config);\n",
    "})"
   ]
  },
  {
   "cell_type": "markdown",
   "metadata": {},
   "source": [
    "# UI 라이브러리로 웹 문서 예쁘게 꾸미기(생략)"
   ]
  }
 ],
 "metadata": {
  "kernelspec": {
   "display_name": "Python [default]",
   "language": "python",
   "name": "python3"
  },
  "language_info": {
   "codemirror_mode": {
    "name": "ipython",
    "version": 3
   },
   "file_extension": ".py",
   "mimetype": "text/x-python",
   "name": "python",
   "nbconvert_exporter": "python",
   "pygments_lexer": "ipython3",
   "version": "3.5.6"
  }
 },
 "nbformat": 4,
 "nbformat_minor": 2
}
