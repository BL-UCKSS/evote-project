{
 "cells": [
  {
   "cell_type": "code",
   "execution_count": 2,
   "metadata": {
    "collapsed": true
   },
   "outputs": [],
   "source": [
    "import requests\n",
    "from io import BytesIO\n",
    "from PIL import Image"
   ]
  },
  {
   "cell_type": "markdown",
   "metadata": {},
   "source": [
    "# 1.간단한웹서버만들기"
   ]
  },
  {
   "cell_type": "code",
   "execution_count": 3,
   "metadata": {
    "collapsed": false
   },
   "outputs": [
    {
     "name": "stdout",
     "output_type": "stream",
     "text": [
      "Writing ./src/app1.js\n"
     ]
    }
   ],
   "source": [
    "%%writefile ./src/app1.js\n",
    "//모듈 가져오기\n",
    "var http = require('http');\n",
    "\n",
    "//웹 서버 객체 생성\n",
    "var server = http.createServer();\n",
    "\n",
    "//호스트 IP주소\n",
    "var host = 'localhost';\n",
    "//포트 번호 3000번\n",
    "var port = 3000;\n",
    "//3000번으로 port listening(클라이언트로부터 요청을 대기)\n",
    "//50000는 동시접속자 가능 수(백로그)\n",
    "server.listen(port, host, 50000, function(){\n",
    "    console.log(\"웹서버가 실행되었습니다 -> \" + host + ':' + port);\n",
    "})\n",
    "\n",
    "//http://localhost:3000 으로 접속하면\n",
    "//무한 루프가 동작된다.\n",
    "//왜냐하면 응답으로 주어진 것이 없어임.\n",
    "\n",
    "//이벤트 connection이 들어오면 어떤 동작을 함.\n",
    "//보통 client가 서버에 접속하면 이벤트 발생함\n",
    "server.on('connection', function(socket) {\n",
    "    console.log('클라이언트가 접속했음');\n",
    "})\n",
    "\n",
    "server.on('request', function(req, res) {\n",
    "    console.log('클라이언트 요청옴.');\n",
    "    //req 객체 구조 출력\n",
    "    //console.dir(req);\n",
    "\n",
    "    //응답으로 보낼 헤더 작성\n",
    "    //res.writeHead(200, {\"Content-Type\":\"text/html;charset=utf-8\"});\n",
    "    //응답 본문(body) 데이터를 만듬. 여러번 호출 가능.\n",
    "    //res.write('<h1>웹서버로부터 받음</h1>');\n",
    "    //클라이언트로 응답 전송\n",
    "    //res.end();\n",
    "\n",
    "    //이미지만 출력하기\n",
    "    //var filename = 'house.png';\n",
    "    //fs.readFile(filename, function(err,data) {\n",
    "    //\tres.writeHead(200, {\"Content-Type\":\"image/png\"});\n",
    "    //\tres.write(data);\n",
    "    //\tres.end();\n",
    "    //});\n",
    "\n",
    "    \n",
    "});\n",
    "\n"
   ]
  },
  {
   "cell_type": "markdown",
   "metadata": {},
   "source": [
    "# 2.익스프레스로웹서버만들기"
   ]
  },
  {
   "cell_type": "code",
   "execution_count": 21,
   "metadata": {
    "collapsed": false
   },
   "outputs": [
    {
     "name": "stdout",
     "output_type": "stream",
     "text": [
      "Overwriting ./src/app2.js\n"
     ]
    }
   ],
   "source": [
    "%%writefile ./src/app2.js\n",
    "var express = require('express');\n",
    "var http = require('http');\n",
    "\n",
    "var app = express();\n",
    "\n",
    "//express객체에 port 속성을 설정한다.\n",
    "//시스템환경변수가 존재하지 않다면 3000번 사용\n",
    "app.set('port', process.env.PORT || 3000);\n",
    "\n",
    "//middleware\n",
    "app.use(function(req, res, next) {\n",
    "    console.log('첫번째 미들웨어 호출됨.');\n",
    "\n",
    "    req.user = 'mike';\n",
    "        \n",
    "    next();\n",
    "    //res.writeHead(200, {\"Content-Type\":\"text/html;charset=utf-8\"});\n",
    "    //res.end('<h1>서버에서 응답한 결과입니다.</h1>');\n",
    "})\n",
    "\n",
    "app.use('/', function(req, res, next) {\n",
    "    console.log(\"두번째 미들웨어 호출됨.\");\n",
    "    \n",
    "    //첫번째 미들웨어에서 생성한 req.user을 두번째에서 받아서 사용가능\n",
    "    //res.writeHead(200, {\"Content-Type\":\"text/html;charset=utf-8\"});\n",
    "    //res.end('<h1>서버에서 응답한 결과입니다.: '+req.user+'</h1>');\n",
    "    \n",
    "    //send를 사용하여 writeHead, end를 생략할 수 있다.\n",
    "    //res.send('<h1>서버에서 응답한 결과입니다.: '+req.user+'</h1>')\n",
    "        \n",
    "    //send할 때 객체를 넣기.\n",
    "    var person = {name:'소녀시대',age:20};\n",
    "    //res.send(person);\n",
    "        \n",
    "    //JSON.stringify를 이용한 JSON 문자열로 출력\n",
    "    var personStr = JSON.stringify(person);\n",
    "    //res.send(personStr);\n",
    "        \n",
    "    res.writeHead(200, {\"Content-Type\":\"application/json;charset=utf8\"});\n",
    "    res.write(personStr);\n",
    "    res.end();\n",
    "})\n",
    "\n",
    "//app.get 은 app.set으로 설정한 속성의 값을 가져오는 것\n",
    "var server = http.createServer(app).listen(app.get('port'), function(){\n",
    "    console.log('익스프레스로 웹 서버를 실행함 : ' + app.get('port'));\n",
    "\n",
    "    \n",
    "})"
   ]
  },
  {
   "cell_type": "markdown",
   "metadata": {},
   "source": [
    "### json 포맷으로 출력했을 때 생김새(동일한 결과의 다양한 방법 존재)"
   ]
  },
  {
   "cell_type": "code",
   "execution_count": 14,
   "metadata": {
    "collapsed": false
   },
   "outputs": [
    {
     "data": {
      "text/plain": [
       "'{\"name\":\"소녀시대\",\"age\":20}'"
      ]
     },
     "execution_count": 14,
     "metadata": {},
     "output_type": "execute_result"
    }
   ],
   "source": [
    "URL = 'http://localhost:3000'\n",
    "response = requests.get(URL)\n",
    "response.text"
   ]
  },
  {
   "cell_type": "markdown",
   "metadata": {
    "collapsed": true
   },
   "source": [
    "```\n",
    "D:\\폴더\\학교\\졸프\\evote-project\\WebServer\\Study\\src>node app2.js\n",
    "익스프레스로 웹 서버를 실행함 : 3000\n",
    "첫번째 미들웨어 호출됨.\n",
    "두번째 미들웨어 호출됨.                                                          \n",
    "```"
   ]
  },
  {
   "cell_type": "markdown",
   "metadata": {},
   "source": [
    "## Redirect"
   ]
  },
  {
   "cell_type": "code",
   "execution_count": 23,
   "metadata": {
    "collapsed": false
   },
   "outputs": [
    {
     "name": "stdout",
     "output_type": "stream",
     "text": [
      "Writing ./src/app2_1.js\n"
     ]
    }
   ],
   "source": [
    "%%writefile ./src/app2_1.js\n",
    "var express = require('express');\n",
    "var http = require('http');\n",
    "\n",
    "var app = express();\n",
    "\n",
    "//express객체에 port 속성을 설정한다.\n",
    "//시스템환경변수가 존재하지 않다면 3000번 사용\n",
    "app.set('port', process.env.PORT || 3000);\n",
    "\n",
    "//middleware\n",
    "app.use(function(req, res, next) {\n",
    "    console.log('첫번째 미들웨어 호출됨.');\n",
    "\n",
    "    res.redirect('http://google.co.kr');\n",
    "})\n",
    "\n",
    "//app.get 은 app.set으로 설정한 속성의 값을 가져오는 것\n",
    "var server = http.createServer(app).listen(app.get('port'), function(){\n",
    "    console.log('익스프레스로 웹 서버를 실행함 : ' + app.get('port'));\n",
    "\n",
    "    \n",
    "})"
   ]
  },
  {
   "cell_type": "code",
   "execution_count": 24,
   "metadata": {
    "collapsed": false
   },
   "outputs": [
    {
     "data": {
      "text/plain": [
       "'<!doctype html><html itemscope=\"\" itemtype=\"http://schema.org/WebPage\" lang=\"ko\"><head><meta content=\"text/html; charset=UTF-8\" http-equiv=\"Content-Type\"><meta content=\"/images/branding/googleg/1x/googleg_standard_color_128dp.png\" itemprop=\"image\"><title>Google</title><script nonce=\"6HXtv24+P7qtgAgDg9JBgA==\">(function(){window.google={kEI:\\'cozjXuuLEIOymAWF5bzgBA\\',kEXPI:\\'0,202123,3,4,32,1100063,51522,5662,730,224,3657,1448,206,1698,1506,10,1226,364,926,573,576,35,206,383,246,5,1128,226,196,1132,5,361,1218,718,248,4,137,139,97,43,116,3,346,54,326,1122623,1197705,444,78,329040,1294,12383,4855,32692,15247,867,28684,893,8295,8384,4859,997,364,9291,3027,4740,11033,1808,4020,978,7931,694,4603,2054,918,875,1217,1710,1,1264,2784,3650,11302,3221,4518,2777,919,2279,6,85,4304,423,744,112,2212,530,149,1103,840,124,393,1142,278,49,53,157,635,3466,312,1137,2,2669,1839,184,545,1188,43,523,1945,2229,93,328,1284,16,2927,2246,474,1339,748,1039,3227,2845,7,6068,6286,4454,642,2450,2458,1226,1743,3653,1275,108,591,853,1963,908,2,1493,2062,2397,1387,1509,2523,2049,842,1337,1098,3,346,230,970,865,372,3546,706,149,44,145,3312,2042,8,439,28,2224,60,3882,155,888,105,643,4,1305,23,8,114,78,17,356,60,269,240,352,381,613,16,1236,271,874,395,2,8,41,1798,21,176,2250,503,41,297,195,722,9,43,1416,1884,43,77,418,805,212,500,640,590,2336,1,252,41,384,1588,86,3,584,21,5,143,740,237,1550,1263,163,163,744,95,734,583,171,156,2,36,41,329,230,1146,53,726,5,23,13,245,1771,15,471,187,53,1489,24,401,2,10,512,399,3,1,51,37,161,130,869,69,333,4,5803120,1805894,4194993,2801029,549,333,444,1,2,80,1,900,896,1,8,1,2,2551,1,748,141,59,736,563,1,4265,1,1,1,1,137,1,879,9,305,2705,1,8,3,3389561,20572125,42,2682692\\',kBL:\\'OLTy\\'};google.sn=\\'webhp\\';google.kHL=\\'ko\\';})();(function(){google.lc=[];google.li=0;google.getEI=function(a){for(var c;a&&(!a.getAttribute||!(c=a.getAttribute(\"eid\")));)a=a.parentNode;return c||google.kEI};google.getLEI=function(a){for(var c=null;a&&(!a.getAttribute||!(c=a.getAttribute(\"leid\")));)a=a.parentNode;return c};google.ml=function(){return null};google.time=function(){return Date.now()};google.log=function(a,c,b,d,g){if(b=google.logUrl(a,c,b,d,g)){a=new Image;var e=google.lc,f=google.li;e[f]=a;a.onerror=a.onload=a.onabort=function(){delete e[f]};google.vel&&google.vel.lu&&google.vel.lu(b);a.src=b;google.li=f+1}};google.logUrl=function(a,c,b,d,g){var e=\"\",f=google.ls||\"\";b||-1!=c.search(\"&ei=\")||(e=\"&ei=\"+google.getEI(d),-1==c.search(\"&lei=\")&&(d=google.getLEI(d))&&(e+=\"&lei=\"+d));d=\"\";!b&&google.cshid&&-1==c.search(\"&cshid=\")&&\"slh\"!=a&&(d=\"&cshid=\"+google.cshid);b=b||\"/\"+(g||\"gen_204\")+\"?atyp=i&ct=\"+a+\"&cad=\"+c+e+f+\"&zx=\"+google.time()+d;/^http:/i.test(b)&&\"https:\"==window.location.protocol&&(google.ml(Error(\"a\"),!1,{src:b,glmm:1}),b=\"\");return b};}).call(this);(function(){google.y={};google.x=function(a,b){if(a)var c=a.id;else{do c=Math.random();while(google.y[c])}google.y[c]=[a,b];return!1};google.lm=[];google.plm=function(a){google.lm.push.apply(google.lm,a)};google.lq=[];google.load=function(a,b,c){google.lq.push([[a],b,c])};google.loadAll=function(a,b){google.lq.push([a,b])};}).call(this);google.f={};(function(){\\ndocument.documentElement.addEventListener(\"submit\",function(b){var a;if(a=b.target){var c=a.getAttribute(\"data-submitfalse\");a=\"1\"==c||\"q\"==c&&!a.elements.q.value?!0:!1}else a=!1;a&&(b.preventDefault(),b.stopPropagation())},!0);document.documentElement.addEventListener(\"click\",function(b){var a;a:{for(a=b.target;a&&a!=document.documentElement;a=a.parentElement)if(\"A\"==a.tagName){a=\"1\"==a.getAttribute(\"data-nohref\");break a}a=!1}a&&b.preventDefault()},!0);}).call(this);\\nvar a=window.location,b=a.href.indexOf(\"#\");if(0<=b){var c=a.href.substring(b+1);/(^|&)q=/.test(c)&&-1==c.indexOf(\"#\")&&a.replace(\"/search?\"+c.replace(/(^|&)fp=[^&]*/g,\"\")+\"&cad=h\")};</script><style>#gbar,#guser{font-size:13px;padding-top:1px !important;}#gbar{height:22px}#guser{padding-bottom:7px !important;text-align:right}.gbh,.gbd{border-top:1px solid #c9d7f1;font-size:1px}.gbh{height:0;position:absolute;top:24px;width:100%}@media all{.gb1{height:22px;margin-right:.5em;vertical-align:top}#gbar{float:left}}a.gb1,a.gb4{text-decoration:underline !important}a.gb1,a.gb4{color:#00c !important}.gbi .gb4{color:#dd8e27 !important}.gbf .gb4{color:#900 !important}\\n</style><style>body,td,a,p,.h{font-family:굴림,돋움,arial,sans-serif}.ko{font-size:9pt}body{margin:0;overflow-y:scroll}#gog{padding:3px 8px 0}td{line-height:.8em}.gac_m td{line-height:17px}form{margin-bottom:20px}.h{color:#36c}.q{color:#00c}.ts td{padding:0}.ts{border-collapse:collapse}em{font-weight:bold;font-style:normal}.lst{height:25px;width:496px}.gsfi,.lst{font:18px arial,sans-serif}.gsfs{font:17px arial,sans-serif}.ds{display:inline-box;display:inline-block;margin:3px 0 4px;margin-left:4px}input{font-family:inherit}body{background:#fff;color:#000}a{color:#11c;text-decoration:none}a:hover,a:active{text-decoration:underline}.fl a{color:#36c}a:visited{color:#551a8b}.sblc{padding-top:5px}.sblc a{display:block;margin:2px 0;margin-left:13px;font-size:11px}.lsbb{background:#eee;border:solid 1px;border-color:#ccc #999 #999 #ccc;height:30px}.lsbb{display:block}.ftl,#fll a{display:inline-block;margin:0 12px}.lsb{background:url(/images/nav_logo229.png) 0 -261px repeat-x;border:none;color:#000;cursor:pointer;height:30px;margin:0;outline:0;font:15px arial,sans-serif;vertical-align:top}.lsb:active{background:#ccc}.lst:focus{outline:none}.tiah{width:458px}</style><script nonce=\"6HXtv24+P7qtgAgDg9JBgA==\"></script></head><body bgcolor=\"#fff\"><script nonce=\"6HXtv24+P7qtgAgDg9JBgA==\">(function(){var src=\\'/images/nav_logo229.png\\';var iesg=false;document.body.onload = function(){window.n && window.n();if (document.images){new Image().src=src;}\\nif (!iesg){document.f&&document.f.q.focus();document.gbqf&&document.gbqf.q.focus();}\\n}\\n})();</script><div id=\"mngb\"> <div id=gbar><nobr><b class=gb1>검색</b> <a class=gb1 href=\"http://www.google.co.kr/imghp?hl=ko&tab=wi\">이미지</a> <a class=gb1 href=\"http://maps.google.co.kr/maps?hl=ko&tab=wl\">지도</a> <a class=gb1 href=\"https://play.google.com/?hl=ko&tab=w8\">Play</a> <a class=gb1 href=\"http://www.youtube.com/?gl=KR&tab=w1\">YouTube</a> <a class=gb1 href=\"http://news.google.co.kr/nwshp?hl=ko&tab=wn\">뉴스</a> <a class=gb1 href=\"https://mail.google.com/mail/?tab=wm\">Gmail</a> <a class=gb1 href=\"https://drive.google.com/?tab=wo\">드라이브</a> <a class=gb1 style=\"text-decoration:none\" href=\"https://www.google.co.kr/intl/ko/about/products?tab=wh\"><u>더보기</u> &raquo;</a></nobr></div><div id=guser width=100%><nobr><span id=gbn class=gbi></span><span id=gbf class=gbf></span><span id=gbe></span><a href=\"http://www.google.co.kr/history/optout?hl=ko\" class=gb4>웹 기록</a> | <a  href=\"/preferences?hl=ko\" class=gb4>설정</a> | <a target=_top id=gb_70 href=\"https://accounts.google.com/ServiceLogin?hl=ko&passive=true&continue=http://www.google.co.kr/\" class=gb4>로그인</a></nobr></div><div class=gbh style=left:0></div><div class=gbh style=right:0></div> </div><center><br clear=\"all\" id=\"lgpd\"><div id=\"lga\"><img alt=\"Google\" height=\"92\" src=\"/images/branding/googlelogo/1x/googlelogo_white_background_color_272x92dp.png\" style=\"padding:28px 0 14px\" width=\"272\" id=\"hplogo\"><br><br></div><form action=\"/search\" name=\"f\"><table cellpadding=\"0\" cellspacing=\"0\"><tr valign=\"top\"><td width=\"25%\">&nbsp;</td><td align=\"center\" nowrap=\"\"><input name=\"ie\" value=\"EUC-KR\" type=\"hidden\"><input value=\"ko\" name=\"hl\" type=\"hidden\"><input name=\"source\" type=\"hidden\" value=\"hp\"><input name=\"biw\" type=\"hidden\"><input name=\"bih\" type=\"hidden\"><div class=\"ds\" style=\"height:32px;margin:4px 0\"><div style=\"position:relative;zoom:1\"><input class=\"lst tiah\" style=\"margin:0;padding:5px 8px 0 6px;vertical-align:top;color:#000;padding-right:38px\" autocomplete=\"off\" value=\"\" title=\"Google 검색\" maxlength=\"2048\" name=\"q\" size=\"57\"><img src=\"/textinputassistant/tia.png\" style=\"position:absolute;cursor:pointer;right:5px;top:4px;z-index:300\" data-script-url=\"/textinputassistant/11/ko_tia.js\" id=\"tsuid1\" alt=\"\" height=\"23\" width=\"27\"><script nonce=\"6HXtv24+P7qtgAgDg9JBgA==\">(function(){var id=\\'tsuid1\\';document.getElementById(id).onclick = function(){var s = document.createElement(\\'script\\');s.src = this.getAttribute(\\'data-script-url\\');(document.getElementById(\\'xjsc\\')||document.body).appendChild(s);};})();</script></div></div><br style=\"line-height:0\"><span class=\"ds\"><span class=\"lsbb\"><input class=\"lsb\" value=\"Google 검색\" name=\"btnG\" type=\"submit\"></span></span><span class=\"ds\"><span class=\"lsbb\"><input class=\"lsb\" id=\"tsuid2\" value=\"I’m Feeling Lucky\" name=\"btnI\" type=\"submit\"><script nonce=\"6HXtv24+P7qtgAgDg9JBgA==\">(function(){var id=\\'tsuid2\\';document.getElementById(id).onclick = function(){if (this.form.q.value){this.checked = 1;if (this.form.iflsig)this.form.iflsig.disabled = false;}\\nelse top.location=\\'/doodles/\\';};})();</script><input value=\"AINFCbYAAAAAXuOaguLY4OEabS6a3qCCLv85jAGgWYXg\" name=\"iflsig\" type=\"hidden\"></span></span></td><td class=\"fl sblc\" align=\"left\" nowrap=\"\" width=\"25%\"><a href=\"/advanced_search?hl=ko&amp;authuser=0\">고급검색</a></td></tr></table><input id=\"gbv\" name=\"gbv\" type=\"hidden\" value=\"1\"><script nonce=\"6HXtv24+P7qtgAgDg9JBgA==\">(function(){var a,b=\"1\";if(document&&document.getElementById)if(\"undefined\"!=typeof XMLHttpRequest)b=\"2\";else if(\"undefined\"!=typeof ActiveXObject){var c,d,e=[\"MSXML2.XMLHTTP.6.0\",\"MSXML2.XMLHTTP.3.0\",\"MSXML2.XMLHTTP\",\"Microsoft.XMLHTTP\"];for(c=0;d=e[c++];)try{new ActiveXObject(d),b=\"2\"}catch(h){}}a=b;if(\"2\"==a&&-1==location.search.indexOf(\"&gbv=2\")){var f=google.gbvu,g=document.getElementById(\"gbv\");g&&(g.value=a);f&&window.setTimeout(function(){location.href=f},0)};}).call(this);</script></form><div id=\"gac_scont\"></div><div style=\"font-size:83%;min-height:3.5em\"><br></div><span id=\"footer\"><div style=\"font-size:10pt\"><div style=\"margin:19px auto;text-align:center\" id=\"fll\"><a href=\"/intl/ko/ads/\">광고 프로그램</a><a href=\"http://www.google.co.kr/intl/ko/services/\">비즈니스 솔루션</a><a href=\"/intl/ko/about.html\">Google 정보</a><a href=\"http://www.google.co.kr/setprefdomain?prefdom=US&amp;sig=K_uAV8fS7qkPAtBu2r7F0PsJyfT_E%3D\" id=\"fehl\">Google.com</a></div></div><p style=\"font-size:8pt;color:#767676\">&copy; 2020 - <a href=\"/intl/ko/policies/privacy/\">개인정보처리방침</a> - <a href=\"/intl/ko/policies/terms/\">약관</a></p></span></center><script nonce=\"6HXtv24+P7qtgAgDg9JBgA==\">(function(){window.google.cdo={height:0,width:0};(function(){var a=window.innerWidth,b=window.innerHeight;if(!a||!b){var c=window.document,d=\"CSS1Compat\"==c.compatMode?c.documentElement:c.body;a=d.clientWidth;b=d.clientHeight}a&&b&&(a!=google.cdo.width||b!=google.cdo.height)&&google.log(\"\",\"\",\"/client_204?&atyp=i&biw=\"+a+\"&bih=\"+b+\"&ei=\"+google.kEI);}).call(this);})();(function(){var u=\\'/xjs/_/js/k\\\\x3dxjs.hp.en.kiae-d0fO4M.O/m\\\\x3dsb_he,d/am\\\\x3dAC8ENgc/d\\\\x3d1/rs\\\\x3dACT90oH_cr3jbpV90AwUUbFQa4CCN2KMXA\\';\\nsetTimeout(function(){var b=document;var a=\"SCRIPT\";\"application/xhtml+xml\"===b.contentType&&(a=a.toLowerCase());a=b.createElement(a);a.src=u;google.timers&&google.timers.load&&google.tick&&google.tick(\"load\",\"xjsls\");document.body.appendChild(a)},0);})();(function(){window.google.xjsu=\\'/xjs/_/js/k\\\\x3dxjs.hp.en.kiae-d0fO4M.O/m\\\\x3dsb_he,d/am\\\\x3dAC8ENgc/d\\\\x3d1/rs\\\\x3dACT90oH_cr3jbpV90AwUUbFQa4CCN2KMXA\\';})();function _DumpException(e){throw e;}\\nfunction _F_installCss(c){}\\n(function(){google.jl={dw:false,em:[],emw:false,lls:\\'default\\',pdt:0,snet:true,uwp:true};})();(function(){var pmc=\\'{\\\\x22d\\\\x22:{},\\\\x22sb_he\\\\x22:{\\\\x22agen\\\\x22:true,\\\\x22cgen\\\\x22:true,\\\\x22client\\\\x22:\\\\x22heirloom-hp\\\\x22,\\\\x22dh\\\\x22:true,\\\\x22dhqt\\\\x22:true,\\\\x22ds\\\\x22:\\\\x22\\\\x22,\\\\x22ffql\\\\x22:\\\\x22ko\\\\x22,\\\\x22fl\\\\x22:true,\\\\x22host\\\\x22:\\\\x22google.co.kr\\\\x22,\\\\x22isbh\\\\x22:28,\\\\x22jsonp\\\\x22:true,\\\\x22msgs\\\\x22:{\\\\x22cibl\\\\x22:\\\\x22검색어 지우기\\\\x22,\\\\x22dym\\\\x22:\\\\x22이것을 찾으셨나요?\\\\x22,\\\\x22lcky\\\\x22:\\\\x22I’m Feeling Lucky\\\\x22,\\\\x22lml\\\\x22:\\\\x22자세히 알아보기\\\\x22,\\\\x22oskt\\\\x22:\\\\x22입력 도구\\\\x22,\\\\x22psrc\\\\x22:\\\\x22검색어가 \\\\\\\\u003Ca href\\\\x3d\\\\\\\\\\\\x22/history\\\\\\\\\\\\x22\\\\\\\\u003E웹 기록\\\\\\\\u003C/a\\\\\\\\u003E에서 삭제되었습니다.\\\\x22,\\\\x22psrl\\\\x22:\\\\x22삭제\\\\x22,\\\\x22sbit\\\\x22:\\\\x22이미지로 검색\\\\x22,\\\\x22srch\\\\x22:\\\\x22Google 검색\\\\x22},\\\\x22ovr\\\\x22:{},\\\\x22pq\\\\x22:\\\\x22\\\\x22,\\\\x22refpd\\\\x22:true,\\\\x22refspre\\\\x22:true,\\\\x22rfs\\\\x22:[],\\\\x22sbpl\\\\x22:16,\\\\x22sbpr\\\\x22:16,\\\\x22scd\\\\x22:10,\\\\x22stok\\\\x22:\\\\x22d4JYQ0dtah9yvRmMdq7cbZ7Uz5s\\\\x22,\\\\x22uhde\\\\x22:false}}\\';google.pmc=JSON.parse(pmc);})();</script>        </body></html>'"
      ]
     },
     "execution_count": 24,
     "metadata": {},
     "output_type": "execute_result"
    }
   ],
   "source": [
    "URL = 'http://localhost:3000'\n",
    "response = requests.get(URL)\n",
    "response.text"
   ]
  },
  {
   "cell_type": "markdown",
   "metadata": {},
   "source": [
    "## 요청 Parameter 다루기"
   ]
  },
  {
   "cell_type": "code",
   "execution_count": 27,
   "metadata": {
    "collapsed": false
   },
   "outputs": [
    {
     "name": "stdout",
     "output_type": "stream",
     "text": [
      "Overwriting ./src/app2_2.js\n"
     ]
    }
   ],
   "source": [
    "%%writefile ./src/app2_2.js\n",
    "var express = require('express');\n",
    "var http = require('http');\n",
    "\n",
    "var app = express();\n",
    "\n",
    "//express객체에 port 속성을 설정한다.\n",
    "//시스템환경변수가 존재하지 않다면 3000번 사용\n",
    "app.set('port', process.env.PORT || 3000);\n",
    "\n",
    "//middleware\n",
    "app.use(function(req, res, next) {\n",
    "    console.log('첫번째 미들웨어 호출됨.');\n",
    "\n",
    "    var userAgent = req.header('User-Agennt');\n",
    "    var paramName = req.query.name; //req.body.name 은 POST방식의 요청Param을 받음\n",
    "    \n",
    "    res.send('<h3>서버에서 응답. User-Agent -> ' + userAgent + '</h3>\\\n",
    "    <h3>Param Name -> ' + paramName + '</h3>');\n",
    "    \n",
    "})\n",
    "\n",
    "//app.get 은 app.set으로 설정한 속성의 값을 가져오는 것\n",
    "var server = http.createServer(app).listen(app.get('port'), function(){\n",
    "    console.log('익스프레스로 웹 서버를 실행함 : ' + app.get('port'));\n",
    "\n",
    "    \n",
    "})"
   ]
  },
  {
   "cell_type": "code",
   "execution_count": 28,
   "metadata": {
    "collapsed": false
   },
   "outputs": [
    {
     "data": {
      "text/plain": [
       "'<h3>서버에서 응답. User-Agent -> undefined</h3>    <h3>Param Name -> mike</h3>'"
      ]
     },
     "execution_count": 28,
     "metadata": {},
     "output_type": "execute_result"
    }
   ],
   "source": [
    "URL = 'http://localhost:3000/?name=mike'\n",
    "response = requests.get(URL)\n",
    "response.text"
   ]
  },
  {
   "cell_type": "markdown",
   "metadata": {},
   "source": [
    "# 미들웨어 사용하기"
   ]
  },
  {
   "cell_type": "markdown",
   "metadata": {},
   "source": [
    "### 특정 폴더의 파일들을 특정 패스로 접근할 수 있도록 열어주는 역할을 함\n",
    "    var static = require('serve-static');\n",
    "    .......\n",
    "    app.use(static(path.join(__diranme, 'public')));\n"
   ]
  },
  {
   "cell_type": "code",
   "execution_count": 46,
   "metadata": {
    "collapsed": false
   },
   "outputs": [
    {
     "name": "stdout",
     "output_type": "stream",
     "text": [
      "Overwriting ./src/app3.js\n"
     ]
    }
   ],
   "source": [
    "%%writefile ./src/app3.js\n",
    "var express = require('express');\n",
    "var http = require('http');\n",
    "var static = require('serve-static');\n",
    "var path = require('path');\n",
    "\n",
    "var app = express();\n",
    "\n",
    "app.set('port', process.env.PORT || 3000);\n",
    "app.use('/public', static(path.join(__dirname, 'public'))); //middleware\n",
    "\n",
    "app.use(function(req, res, next) {\n",
    "    console.log('첫번째 미들웨어 호출됨.');\n",
    "\n",
    "    res.send(\"<h1>hello</h1>\");\n",
    "})\n",
    "\n",
    "//app.get 은 app.set으로 설정한 속성의 값을 가져오는 것\n",
    "var server = http.createServer(app).listen(app.get('port'), function(){\n",
    "    console.log('익스프레스로 웹 서버를 실행함 : ' + app.get('port'));\n",
    "})"
   ]
  },
  {
   "cell_type": "code",
   "execution_count": 47,
   "metadata": {
    "collapsed": false
   },
   "outputs": [
    {
     "data": {
      "image/png": "[encoded data removed]",
      "text/plain": [
       "<PIL.PngImagePlugin.PngImageFile image mode=RGBA size=960x520 at 0x28711B47F60>"
      ]
     },
     "execution_count": 47,
     "metadata": {},
     "output_type": "execute_result"
    }
   ],
   "source": [
    "URL = 'http://localhost:3000/public/timetable.png'\n",
    "response = requests.get(URL)\n",
    "#response.text\n",
    "img = Image.open(BytesIO(response.content))\n",
    "img"
   ]
  },
  {
   "cell_type": "markdown",
   "metadata": {},
   "source": [
    "## bodyparser 미들웨어 사용하기\n",
    "### POST방식의 요청 Parameter 를 받기"
   ]
  },
  {
   "cell_type": "code",
   "execution_count": 52,
   "metadata": {
    "collapsed": false
   },
   "outputs": [
    {
     "name": "stdout",
     "output_type": "stream",
     "text": [
      "Overwriting ./src/app3_1.js\n"
     ]
    }
   ],
   "source": [
    "%%writefile ./src/app3_1.js\n",
    "var express = require('express');\n",
    "var http = require('http');\n",
    "var static = require('serve-static');\n",
    "var path = require('path');\n",
    "\n",
    "var bodyParser = require('body-parser'); //추가 설치 필요\n",
    "\n",
    "var app = express();\n",
    "\n",
    "app.set('port', process.env.PORT || 3000);\n",
    "app.use('/public', static(path.join(__dirname, 'public'))); //middleware\n",
    "\n",
    "//외장 모듈 미들웨어 등록(body로 들어가는 파라미터를 처리하기 위함)\n",
    "app.use(bodyParser.urlencoded({extended:false}));\n",
    "app.use(bodyParser.json());\n",
    "\n",
    "app.use(function(req, res, next) {\n",
    "    console.log('첫번째 미들웨어 호출됨.');\n",
    "\n",
    "    //POST 에 데이터가 없으면 GET의 데이터를 보아라\n",
    "    var paramName = req.body.name || req.query.name;\n",
    "        \n",
    "    res.send(\"<h1>\"+paramName+\"</h1>\");\n",
    "})\n",
    "\n",
    "//app.get 은 app.set으로 설정한 속성의 값을 가져오는 것\n",
    "var server = http.createServer(app).listen(app.get('port'), function(){\n",
    "    console.log('익스프레스로 웹 서버를 실행함 : ' + app.get('port'));\n",
    "})"
   ]
  },
  {
   "cell_type": "markdown",
   "metadata": {},
   "source": [
    "```\n",
    "D:\\폴더\\학교\\졸프\\evote-project\\WebServer\\Study\\src>npm install body-parser --save\n",
    "npm WARN saveError ENOENT: no such file or directory, open 'D:\\폴더\\학교\\졸프\\evote-project\\WebServer\\Study\\src\\package.json'\n",
    "npm WARN enoent ENOENT: no such file or directory, open 'D:\\폴더\\학교\\졸프\\evote-project\\WebServer\\Study\\src\\package.json'\n",
    "npm WARN src No description\n",
    "npm WARN src No repository field.\n",
    "npm WARN src No README data\n",
    "npm WARN src No license field.\n",
    "\n",
    "+ body-parser@1.19.0\n",
    "updated 1 package and audited 88 packages in 1.067s\n",
    "found 0 vulnerabilities\n",
    "```"
   ]
  },
  {
   "cell_type": "code",
   "execution_count": 55,
   "metadata": {
    "collapsed": false
   },
   "outputs": [
    {
     "data": {
      "text/plain": [
       "'<h1>mike</h1>'"
      ]
     },
     "execution_count": 55,
     "metadata": {},
     "output_type": "execute_result"
    }
   ],
   "source": [
    "URL = 'http://localhost:3000'\n",
    "#response = requests.get(URL)\n",
    "data = {'name': 'mike'}\n",
    "res = requests.post(URL, data=data)\n",
    "res.text"
   ]
  },
  {
   "cell_type": "code",
   "execution_count": 56,
   "metadata": {
    "collapsed": false
   },
   "outputs": [
    {
     "name": "stdout",
     "output_type": "stream",
     "text": [
      "Writing ./src/public/login.html\n"
     ]
    }
   ],
   "source": [
    "%%writefile ./src/public/login.html\n",
    "<!DOCTYPE html>\n",
    "<html>\n",
    "    <head>\n",
    "        <meta charset=\"utf-8\">\n",
    "        <title>로그인</title>\n",
    "    </head>\n",
    "    <body>\n",
    "        <h1>로그인</h1>\n",
    "        <br>\n",
    "        <form method=\"post\">\n",
    "            <table>\n",
    "                <tr>\n",
    "                    <td><label>아이디</label></td>\n",
    "                    <td><input type=\"text\" name=\"id\"></td>\n",
    "                </tr>\n",
    "                <tr>\n",
    "                    <td><label>비밀번호</label></td>\n",
    "                    <td><input type=\"password\" name=\"password\"></td>\n",
    "                </tr>\n",
    "            </table>\n",
    "            <input type=\"submit\" value=\"전송\" name=\"\">\n",
    "        </form>\n",
    "    </body>\n",
    "</html>"
   ]
  },
  {
   "cell_type": "markdown",
   "metadata": {},
   "source": [
    "<html>\n",
    "    <head>\n",
    "        <meta charset=\"utf-8\">\n",
    "        <title>로그인</title>\n",
    "    </head>\n",
    "    <body>\n",
    "        <h1>로그인</h1>\n",
    "        <br>\n",
    "        <form method=\"post\">\n",
    "            <table>\n",
    "                <tr>\n",
    "                    <td><label>아이디</label></td>\n",
    "                    <td><input type=\"text\" name=\"id\"></td>\n",
    "                </tr>\n",
    "                <tr>\n",
    "                    <td><label>비밀번호</label></td>\n",
    "                    <td><input type=\"password\" name=\"password\"></td>\n",
    "                </tr>\n",
    "            </table>\n",
    "            <input type=\"submit\" value=\"전송\" name=\"\">\n",
    "        </form>\n",
    "    </body>\n",
    "</html>"
   ]
  },
  {
   "cell_type": "markdown",
   "metadata": {},
   "source": [
    "#### var paramName = req.body.id || req.query.id;\n",
    "#### var paramName = req.body.password || req.query.password;"
   ]
  },
  {
   "cell_type": "markdown",
   "metadata": {},
   "source": [
    "# 4. 요청 라우팅하기\n",
    "\n",
    "* GET/POST 방식으로 특정 Path 요청이 발생했을 때 사용할 콜백 함수를 지정합니다.\n",
    "```\n",
    "    var router = express.Router();\n",
    "\n",
    "    router.route('/process/login').post(function(req, res) {\n",
    "        //blahblah\n",
    "    });\n",
    "```"
   ]
  },
  {
   "cell_type": "code",
   "execution_count": 67,
   "metadata": {
    "collapsed": false
   },
   "outputs": [
    {
     "name": "stdout",
     "output_type": "stream",
     "text": [
      "Overwriting ./src/app4.js\n"
     ]
    }
   ],
   "source": [
    "%%writefile ./src/app4.js\n",
    "var express = require('express');\n",
    "var http = require('http');\n",
    "var static = require('serve-static');\n",
    "var path = require('path');\n",
    "\n",
    "var bodyParser = require('body-parser'); //추가 설치 필요\n",
    "\n",
    "var app = express();\n",
    "\n",
    "app.set('port', process.env.PORT || 3000);\n",
    "app.use('/public', static(path.join(__dirname, 'public'))); //middleware\n",
    "\n",
    "//외장 모듈 미들웨어 등록(body로 들어가는 파라미터를 처리하기 위함)\n",
    "app.use(bodyParser.urlencoded({extended:false}));\n",
    "app.use(bodyParser.json());\n",
    "\n",
    "var router = express.Router();\n",
    "\n",
    "router.route('/process/login').post(function(req, res) {\n",
    "    console.log('/process/login 라우팅 함수에서 받음.');\n",
    "        \n",
    "    var paramId = req.body.id || req.query.id;\n",
    "    var paramPassword = req.body.password || req.query.password;\n",
    "        \n",
    "    res.writeHead(200, {\"Content-Type\":\"text/html;charset=utf8\"});\n",
    "    res.write(\"<h1>서버에서 로그인 응답</h1>\");\n",
    "    res.write(\"<div><p>\" + paramId + \"</p></div>\");\n",
    "    res.write(\"<div><p>\" + paramPassword + \"</p></div>\");\n",
    "    res.end();\n",
    "});\n",
    "\n",
    "app.use('/', router);\n",
    "\n",
    "//app.get 은 app.set으로 설정한 속성의 값을 가져오는 것\n",
    "var server = http.createServer(app).listen(app.get('port'), function(){\n",
    "    console.log('익스프레스로 웹 서버를 실행함 : ' + app.get('port'));\n",
    "})"
   ]
  },
  {
   "cell_type": "markdown",
   "metadata": {},
   "source": [
    "<html>\n",
    "    <head>\n",
    "        <meta charset=\"utf-8\">\n",
    "        <title>로그인</title>\n",
    "    </head>\n",
    "    <body>\n",
    "        <h1>로그인</h1>\n",
    "        <br>\n",
    "        <form method=\"post\" action=\"http://localhost:3000/process/login\">\n",
    "            <table>\n",
    "                <tr>\n",
    "                    <td><label>아이디</label></td>\n",
    "                    <td><input type=\"text\" name=\"id\"></td>\n",
    "                </tr>\n",
    "                <tr>\n",
    "                    <td><label>비밀번호</label></td>\n",
    "                    <td><input type=\"password\" name=\"password\"></td>\n",
    "                </tr>\n",
    "            </table>\n",
    "            <input type=\"submit\" value=\"전송\" name=\"\">\n",
    "        </form>\n",
    "    </body>\n",
    "</html>"
   ]
  },
  {
   "cell_type": "code",
   "execution_count": 15,
   "metadata": {
    "collapsed": false
   },
   "outputs": [
    {
     "name": "stdout",
     "output_type": "stream",
     "text": [
      "Overwriting ./src/public/login.html\n"
     ]
    }
   ],
   "source": [
    "%%writefile ./src/public/login.html\n",
    "<!DOCTYPE html>\n",
    "<html>\n",
    "    <head>\n",
    "        <meta charset=\"utf-8\">\n",
    "        <title>로그인</title>\n",
    "    </head>\n",
    "    <body>\n",
    "        <h1>로그인</h1>\n",
    "        <br>\n",
    "        <form method=\"post\" action=\"http://localhost:3000/process/login\">\n",
    "            <table>\n",
    "                <tr>\n",
    "                    <td><label>아이디</label></td>\n",
    "                    <td><input type=\"text\" name=\"id\"></td>\n",
    "                </tr>\n",
    "                <tr>\n",
    "                    <td><label>비밀번호</label></td>\n",
    "                    <td><input type=\"password\" name=\"password\"></td>\n",
    "                </tr>\n",
    "            </table>\n",
    "            <input type=\"submit\" value=\"전송\" name=\"\">\n",
    "        </form>\n",
    "    </body>\n",
    "</html>"
   ]
  },
  {
   "cell_type": "code",
   "execution_count": 69,
   "metadata": {
    "collapsed": false
   },
   "outputs": [
    {
     "data": {
      "text/plain": [
       "'<h1>서버에서 로그인 응답</h1><div><p>mike</p></div><div><p>1234</p></div>'"
      ]
     },
     "execution_count": 69,
     "metadata": {},
     "output_type": "execute_result"
    }
   ],
   "source": [
    "URL = 'http://localhost:3000/process/login'\n",
    "#response = requests.get(URL)\n",
    "data = {'id': 'mike', 'password':'1234'}\n",
    "res = requests.post(URL, data=data)\n",
    "res.text"
   ]
  },
  {
   "cell_type": "markdown",
   "metadata": {},
   "source": [
    "## URL Parameter 란?\n",
    "### 요청 Path 바로 뒤에 값을 넣는 것.\n",
    "ex) /process/login/mike"
   ]
  },
  {
   "cell_type": "code",
   "execution_count": 72,
   "metadata": {
    "collapsed": false
   },
   "outputs": [
    {
     "name": "stdout",
     "output_type": "stream",
     "text": [
      "Overwriting ./src/app4_1.js\n"
     ]
    }
   ],
   "source": [
    "%%writefile ./src/app4_1.js\n",
    "var express = require('express');\n",
    "var http = require('http');\n",
    "var static = require('serve-static');\n",
    "var path = require('path');\n",
    "\n",
    "var bodyParser = require('body-parser'); //추가 설치 필요\n",
    "\n",
    "var app = express();\n",
    "\n",
    "app.set('port', process.env.PORT || 3000);\n",
    "app.use('/public', static(path.join(__dirname, 'public'))); //middleware\n",
    "\n",
    "//외장 모듈 미들웨어 등록(body로 들어가는 파라미터를 처리하기 위함)\n",
    "app.use(bodyParser.urlencoded({extended:false}));\n",
    "app.use(bodyParser.json());\n",
    "\n",
    "var router = express.Router();\n",
    "\n",
    "//요청 Path /:name 주목\n",
    "router.route('/process/login/:name').post(function(req, res) {\n",
    "    console.log('/process/login 라우팅 함수에서 받음.');\n",
    "    \n",
    "    //요청 Path parameter\n",
    "    var paramName = req.params.name;\n",
    "    \n",
    "    var paramId = req.body.id || req.query.id;\n",
    "    var paramPassword = req.body.password || req.query.password;\n",
    "        \n",
    "    res.writeHead(200, {\"Content-Type\":\"text/html;charset=utf8\"});\n",
    "    res.write(\"<h1>서버에서 로그인 응답</h1>\");\n",
    "    res.write(\"<div><p>\" + paramName + \"</p></div>\");\n",
    "    res.write(\"<div><p>\" + paramId + \"</p></div>\");\n",
    "    res.write(\"<div><p>\" + paramPassword + \"</p></div>\");\n",
    "    res.end();\n",
    "});\n",
    "\n",
    "app.use('/', router);\n",
    "\n",
    "//app.get 은 app.set으로 설정한 속성의 값을 가져오는 것\n",
    "var server = http.createServer(app).listen(app.get('port'), function(){\n",
    "    console.log('익스프레스로 웹 서버를 실행함 : ' + app.get('port'));\n",
    "})"
   ]
  },
  {
   "cell_type": "code",
   "execution_count": 3,
   "metadata": {
    "collapsed": false
   },
   "outputs": [
    {
     "data": {
      "text/plain": [
       "'<h1>서버에서 로그인 응답</h1><div><p>donggyu</p></div><div><p>mike</p></div><div><p>1234</p></div>'"
      ]
     },
     "execution_count": 3,
     "metadata": {},
     "output_type": "execute_result"
    }
   ],
   "source": [
    "URL = 'http://localhost:3000/process/login/donggyu'\n",
    "#response = requests.get(URL)\n",
    "data = {'id': 'mike', 'password':'1234'}\n",
    "res = requests.post(URL, data=data)\n",
    "res.text"
   ]
  },
  {
   "cell_type": "markdown",
   "metadata": {
    "collapsed": true
   },
   "source": [
    "### URL 안에 들어간 파라미터가 매핑되는 형식\n",
    "    /process/login/mike\n",
    "    /process/login/:name"
   ]
  },
  {
   "cell_type": "markdown",
   "metadata": {},
   "source": [
    "## 오류 페이지 보여주기\n",
    "```\n",
    "    app.all('*', function(req, res) {\n",
    "        res.status(404).send('<h1>ERROR - 페이지를 찾을 수 없습니다.</h1>');\n",
    "    });\n",
    "```"
   ]
  },
  {
   "cell_type": "code",
   "execution_count": 7,
   "metadata": {
    "collapsed": false
   },
   "outputs": [
    {
     "name": "stdout",
     "output_type": "stream",
     "text": [
      "Overwriting ./src/app4_2.js\n"
     ]
    }
   ],
   "source": [
    "%%writefile ./src/app4_2.js\n",
    "var express = require('express');\n",
    "var http = require('http');\n",
    "var static = require('serve-static');\n",
    "var path = require('path');\n",
    "\n",
    "var bodyParser = require('body-parser'); //추가 설치 필요\n",
    "\n",
    "var app = express();\n",
    "\n",
    "app.set('port', process.env.PORT || 3000);\n",
    "app.use('/public', static(path.join(__dirname, 'public'))); //middleware\n",
    "\n",
    "//외장 모듈 미들웨어 등록(body로 들어가는 파라미터를 처리하기 위함)\n",
    "app.use(bodyParser.urlencoded({extended:false}));\n",
    "app.use(bodyParser.json());\n",
    "\n",
    "var router = express.Router();\n",
    "\n",
    "//요청 Path /:name 주목\n",
    "router.route('/process/login/:name').post(function(req, res) {\n",
    "    console.log('/process/login 라우팅 함수에서 받음.');\n",
    "    \n",
    "    //요청 Path parameter\n",
    "    var paramName = req.params.name;\n",
    "    \n",
    "    var paramId = req.body.id || req.query.id;\n",
    "    var paramPassword = req.body.password || req.query.password;\n",
    "        \n",
    "    res.writeHead(200, {\"Content-Type\":\"text/html;charset=utf8\"});\n",
    "    res.write(\"<h1>서버에서 로그인 응답</h1>\");\n",
    "    res.write(\"<div><p>\" + paramName + \"</p></div>\");\n",
    "    res.write(\"<div><p>\" + paramId + \"</p></div>\");\n",
    "    res.write(\"<div><p>\" + paramPassword + \"</p></div>\");\n",
    "    res.end();\n",
    "});\n",
    "\n",
    "app.use('/', router);\n",
    "\n",
    "//app.use('/', router) 밑에 있어야 함. 안그러면 모든 페이지가 다 없다고 함.\n",
    "app.all('*', function(req, res) {\n",
    "        res.status(404).send('<h1>요청하신 페이지는 없어용.</h1>');\n",
    "});\n",
    "\n",
    "//app.get 은 app.set으로 설정한 속성의 값을 가져오는 것\n",
    "var server = http.createServer(app).listen(app.get('port'), function(){\n",
    "    console.log('익스프레스로 웹 서버를 실행함 : ' + app.get('port'));\n",
    "})"
   ]
  },
  {
   "cell_type": "code",
   "execution_count": 9,
   "metadata": {
    "collapsed": false
   },
   "outputs": [
    {
     "data": {
      "text/plain": [
       "'<h1>요청하신 페이지는 없어용.</h1>'"
      ]
     },
     "execution_count": 9,
     "metadata": {},
     "output_type": "execute_result"
    }
   ],
   "source": [
    "URL = 'http://localhost:3000/hello'\n",
    "response = requests.get(URL)\n",
    "#data = {'id': 'mike', 'password':'1234'}\n",
    "#res = requests.post(URL, data=data)\n",
    "response.text"
   ]
  },
  {
   "cell_type": "markdown",
   "metadata": {},
   "source": [
    "# 쿠키와 세션 관리하기\n",
    "\n",
    "* 쿠키는 클라이언트 웹 브라우저에 저장되는 정보, 세션은 웹 서버에 저장되는 정보\n",
    "* cookie-parser 미들웨어 사용\n",
    "* 후에 passport 모듈은 쿠키와 세션을 관리하기 더욱 용이하게 해줌\n",
    "```\n",
    "    var cookieParser = require('cookie-parser');\n",
    "    \n",
    "    //cookie-parser 설정\n",
    "    app.use(cookieParser());\n",
    "```"
   ]
  },
  {
   "cell_type": "code",
   "execution_count": 19,
   "metadata": {
    "collapsed": false
   },
   "outputs": [
    {
     "name": "stdout",
     "output_type": "stream",
     "text": [
      "Overwriting ./src/app5.js\n"
     ]
    }
   ],
   "source": [
    "%%writefile ./src/app5.js\n",
    "var express = require('express');\n",
    "var http = require('http');\n",
    "var static = require('serve-static');\n",
    "var path = require('path');\n",
    "\n",
    "var bodyParser = require('body-parser'); //추가 설치 필요\n",
    "var cookieParser = require('cookie-parser');\n",
    "\n",
    "var app = express();\n",
    "\n",
    "app.set('port', process.env.PORT || 3000);\n",
    "app.use('/public', static(path.join(__dirname, 'public'))); //middleware\n",
    "\n",
    "//외장 모듈 미들웨어 등록(body로 들어가는 파라미터를 처리하기 위함)\n",
    "app.use(bodyParser.urlencoded({extended:false}));\n",
    "app.use(bodyParser.json());\n",
    "\n",
    "app.use(cookieParser());\n",
    "\n",
    "var router = express.Router();\n",
    "\n",
    "router.route('/process/setUserCookie').get(function(req, res) {\n",
    "    console.log('/process/setUserCookie 라우팅 함수 호출됨.');\n",
    "\n",
    "    res.cookie('user', {\n",
    "            id:'mike',\n",
    "            name:'hello',\n",
    "            authorized:true\n",
    "    });\n",
    "    res.redirect('/process/showCookie');\n",
    "});\n",
    "\n",
    "router.route('/process/showCookie').get(function(req, res) {\n",
    "    console.log('/process/showCookie 라우팅 함수 호출됨.');\n",
    "    \n",
    "    res.send(req.cookies);\n",
    "});\n",
    "\n",
    "app.use('/', router);\n",
    "\n",
    "app.all('*', function(req, res) {\n",
    "        res.status(404).send('<h1>요청하신 페이지는 없어용.</h1>');\n",
    "});\n",
    "\n",
    "//app.get 은 app.set으로 설정한 속성의 값을 가져오는 것\n",
    "var server = http.createServer(app).listen(app.get('port'), function(){\n",
    "    console.log('익스프레스로 웹 서버를 실행함 : ' + app.get('port'));\n",
    "})"
   ]
  },
  {
   "cell_type": "markdown",
   "metadata": {},
   "source": [
    "```\n",
    "D:\\폴더\\학교\\졸프\\evote-project\\WebServer\\Study\\src>npm install cookie-parser --save\n",
    "npm WARN saveError ENOENT: no such file or directory, open 'D:\\폴더\\학교\\졸프\\evote-project\\WebServer\\Study\\src\\package.json'\n",
    "npm WARN enoent ENOENT: no such file or directory, open 'D:\\폴더\\학교\\졸프\\evote-project\\WebServer\\Study\\src\\package.json'\n",
    "npm WARN src No description\n",
    "npm WARN src No repository field.\n",
    "npm WARN src No README data\n",
    "npm WARN src No license field.\n",
    "\n",
    "+ cookie-parser@1.4.5\n",
    "added 1 package from 2 contributors and audited 89 packages in 1.083s\n",
    "```"
   ]
  },
  {
   "cell_type": "code",
   "execution_count": 32,
   "metadata": {
    "collapsed": false
   },
   "outputs": [
    {
     "data": {
      "text/plain": [
       "'{\"user\":{\"id\":\"mike\",\"name\":\"hello\",\"authorized\":true}}'"
      ]
     },
     "execution_count": 32,
     "metadata": {},
     "output_type": "execute_result"
    }
   ],
   "source": [
    "from urllib.parse import unquote\n",
    "URL = 'http://localhost:3000/process/setUserCookie'\n",
    "#response = requests.get(URL)\n",
    "#data = {'id': 'mike', 'password':'1234'}\n",
    "#res = requests.post(URL, data=data)\n",
    "session = requests.Session()\n",
    "response = session.get(URL)\n",
    "response.text"
   ]
  },
  {
   "cell_type": "markdown",
   "metadata": {},
   "source": [
    "## 세션 사용하기(세션은 쿠키를 같이 사용한다)"
   ]
  },
  {
   "cell_type": "code",
   "execution_count": null,
   "metadata": {
    "collapsed": true
   },
   "outputs": [],
   "source": [
    "%%writefile ./src/app5.js\n",
    "var express = require('express');\n",
    "var http = require('http');\n",
    "var static = require('serve-static');\n",
    "var path = require('path');\n",
    "\n",
    "var bodyParser = require('body-parser'); //추가 설치 필요\n",
    "var cookieParser = require('cookie-parser');\n",
    "var expressSession = require('express-session');\n",
    "\n",
    "var app = express();\n",
    "\n",
    "app.set('port', process.env.PORT || 3000);\n",
    "app.use('/public', static(path.join(__dirname, 'public'))); //middleware\n",
    "\n",
    "//외장 모듈 미들웨어 등록(body로 들어가는 파라미터를 처리하기 위함)\n",
    "app.use(bodyParser.urlencoded({extended:false}));\n",
    "app.use(bodyParser.json());\n",
    "\n",
    "app.use(cookieParser());\n",
    "app.use(expressSession({\n",
    "    secret:'my key',\n",
    "    resave:true,\n",
    "    saveUninitialized:true\n",
    "}));\n",
    "\n",
    "var router = express.Router();\n",
    "\n",
    "router.route('/process/product').get(function(req, res) {\n",
    "    console.log('/process/product 라우팅 함수 호출됨.');\n",
    "        \n",
    "    if (req.session.user) {\n",
    "        res.redirect('/public/product.html');    \n",
    "    } else {\n",
    "        res.redirect('/public/login.html');    \n",
    "    }\n",
    "});\n",
    "\n",
    "router.route('/process/setUserCookie').get(function(req, res) {\n",
    "    console.log('/process/setUserCookie 라우팅 함수 호출됨.');\n",
    "\n",
    "    res.cookie('user', {\n",
    "            id:'mike',\n",
    "            name:'hello',\n",
    "            authorized:true\n",
    "    });\n",
    "    res.redirect('/process/showCookie');\n",
    "});\n",
    "\n",
    "router.route('/process/showCookie').get(function(req, res) {\n",
    "    console.log('/process/showCookie 라우팅 함수 호출됨.');\n",
    "    \n",
    "    res.send(req.cookies);\n",
    "});\n",
    "\n",
    "app.use('/', router);\n",
    "\n",
    "app.all('*', function(req, res) {\n",
    "        res.status(404).send('<h1>요청하신 페이지는 없어용.</h1>');\n",
    "});\n",
    "\n",
    "//app.get 은 app.set으로 설정한 속성의 값을 가져오는 것\n",
    "var server = http.createServer(app).listen(app.get('port'), function(){\n",
    "    console.log('익스프레스로 웹 서버를 실행함 : ' + app.get('port'));\n",
    "})"
   ]
  },
  {
   "cell_type": "code",
   "execution_count": 33,
   "metadata": {
    "collapsed": false
   },
   "outputs": [
    {
     "name": "stdout",
     "output_type": "stream",
     "text": [
      "Writing ./src/public/product.html\n"
     ]
    }
   ],
   "source": [
    "%%writefile ./src/public/product.html\n",
    "<!DOCTYPE html>\n",
    "<html>\n",
    "    <head>\n",
    "        <meta charset='utf-8'>\n",
    "        <title>상품 페이지</title>\n",
    "    </head>\n",
    "    <body>\n",
    "        <h3>상품 페이지</h3>\n",
    "        <br>\n",
    "        <p>로그인 후 볼 수 있는 페이지입니다.</p>\n",
    "        <br><br>\n",
    "        <a href='/process/logout'>로그아웃하기</a>\n",
    "    </body>\n",
    "</html>"
   ]
  },
  {
   "cell_type": "markdown",
   "metadata": {},
   "source": [
    "<html>\n",
    "    <head>\n",
    "        <meta charset='utf-8'>\n",
    "        <title>상품 페이지</title>\n",
    "    </head>\n",
    "    <body>\n",
    "        <h3>상품 페이지</h3>\n",
    "        <br>\n",
    "        <p>로그인 후 볼 수 있는 페이지입니다.</p>\n",
    "        <br><br>\n",
    "        <a href='http://localhost:3000/process/logout'>로그아웃하기</a>\n",
    "    </body>\n",
    "</html>"
   ]
  },
  {
   "cell_type": "code",
   "execution_count": 14,
   "metadata": {
    "collapsed": false
   },
   "outputs": [
    {
     "name": "stdout",
     "output_type": "stream",
     "text": [
      "Overwriting ./src/app5_1.js\n"
     ]
    }
   ],
   "source": [
    "%%writefile ./src/app5_1.js\n",
    "var express = require('express');\n",
    "var http = require('http');\n",
    "var static = require('serve-static');\n",
    "var path = require('path');\n",
    "\n",
    "var bodyParser = require('body-parser'); //추가 설치 필요\n",
    "var cookieParser = require('cookie-parser');\n",
    "var expressSession = require('express-session');\n",
    "\n",
    "var app = express();\n",
    "\n",
    "app.set('port', process.env.PORT || 3000);\n",
    "app.use('/public', static(path.join(__dirname, 'public'))); //middleware\n",
    "\n",
    "//외장 모듈 미들웨어 등록(body로 들어가는 파라미터를 처리하기 위함)\n",
    "app.use(bodyParser.urlencoded({extended:false}));\n",
    "app.use(bodyParser.json());\n",
    "\n",
    "app.use(cookieParser());\n",
    "app.use(expressSession({\n",
    "    secret:'my key',\n",
    "    resave:true,\n",
    "    saveUninitialized:true\n",
    "}));\n",
    "\n",
    "var router = express.Router();\n",
    "\n",
    "router.route('/process/product').get(function(req, res) {\n",
    "    console.log('/process/product 라우팅 함수 호출됨.');\n",
    "        \n",
    "    if (req.session.user) {\n",
    "        res.redirect('/public/product.html');    \n",
    "    } else {\n",
    "        res.redirect('/public/login.html');    \n",
    "    }\n",
    "});\n",
    "\n",
    "router.route('/process/login').post(function(req, res) {\n",
    "    console.log('/process/login 라우팅 함수 호출됨.');\n",
    "    var paramId = req.body.id || req.query.id;\n",
    "    var paramPassword = req.body.password || req.query.password;\n",
    "    console.log('요청 파라미터 : ' + paramId + ', ' + paramPassword);\n",
    "    \n",
    "    if (req.session.user) {\n",
    "        console.log('이미 로그인되어 있습니다.');\n",
    "        \n",
    "        res.redirect('/public/product.html');\n",
    "    } else {\n",
    "        req.session.user = {\n",
    "            id:paramId,\n",
    "            name:'donggyu',\n",
    "            authorized:true,\n",
    "        };\n",
    "        res.writeHead(200, {\"Content-Type\":\"text/html;charset=utf8\"});\n",
    "        res.write(\"<h1>로그인 성공</h1>\")\n",
    "        res.write('<p>ID : ' + paramId + '</p>');\n",
    "        res.write('<br><br><a href=\"/process/product\">상품 페이지로 이동하기\\\n",
    "        </a>');\n",
    "        res.end();\n",
    "    }\n",
    "    \n",
    "});\n",
    "\n",
    "router.route('/process/logout').get(function(req, res) {\n",
    "    console.log('/process/logout 라우팅 함수 호출됨.');\n",
    "\n",
    "    if(req.session.user) {\n",
    "        console.log('로그아웃합니다.');\n",
    "\n",
    "        req.session.destroy(function(err) {\n",
    "            if(err){\n",
    "                console.log('세션 삭제 시 에러 발생.');\n",
    "                return;\n",
    "            }\n",
    "            console.log('세션 삭제 성공.');\n",
    "            res.redirect('/public/login.html');\n",
    "        })\n",
    "    } else {\n",
    "        console.log('로그인되어 있지 않습니다.');\n",
    "        res.redirect('/public/login.html');\n",
    "    }\n",
    "})\n",
    "\n",
    "router.route('/process/setUserCookie').get(function(req, res) {\n",
    "    console.log('/process/setUserCookie 라우팅 함수 호출됨.');\n",
    "\n",
    "    res.cookie('user', {\n",
    "            id:'mike',\n",
    "            name:'hello',\n",
    "            authorized:true\n",
    "    });\n",
    "    res.redirect('/process/showCookie');\n",
    "});\n",
    "\n",
    "router.route('/process/showCookie').get(function(req, res) {\n",
    "    console.log('/process/showCookie 라우팅 함수 호출됨.');\n",
    "    \n",
    "    res.send(req.cookies);\n",
    "});\n",
    "\n",
    "app.use('/', router);\n",
    "\n",
    "app.all('*', function(req, res) {\n",
    "        res.status(404).send('<h1>요청하신 페이지는 없어용.</h1>');\n",
    "});\n",
    "\n",
    "//app.get 은 app.set으로 설정한 속성의 값을 가져오는 것\n",
    "var server = http.createServer(app).listen(app.get('port'), function(){\n",
    "    console.log('익스프레스로 웹 서버를 실행함 : ' + app.get('port'));\n",
    "})"
   ]
  },
  {
   "cell_type": "code",
   "execution_count": 16,
   "metadata": {
    "collapsed": false
   },
   "outputs": [
    {
     "data": {
      "text/plain": [
       "'<h1>로그인 성공</h1><p>ID : mike</p><br><br><a href=\"/process/product\">상품 페이지로 이동하기        </a>'"
      ]
     },
     "execution_count": 16,
     "metadata": {},
     "output_type": "execute_result"
    }
   ],
   "source": [
    "session = requests.Session()\n",
    "URL = 'http://localhost:3000/process/login'\n",
    "#response = requests.get(URL)\n",
    "data = {'id': 'mike', 'password':'1234'}\n",
    "#res = requests.post(URL, data=data)\n",
    "response = session.post(URL, data=data)\n",
    "response.text"
   ]
  },
  {
   "cell_type": "code",
   "execution_count": 19,
   "metadata": {
    "collapsed": false
   },
   "outputs": [
    {
     "data": {
      "text/plain": [
       "\"<!DOCTYPE html>\\r\\n<html>\\r\\n    <head>\\r\\n        <meta charset='utf-8'>\\r\\n        <title>상품 페이지</title>\\r\\n    </head>\\r\\n    <body>\\r\\n        <h3>상품 페이지</h3>\\r\\n        <br>\\r\\n        <p>로그인 후 볼 수 있는 페이지입니다.</p>\\r\\n        <br><br>\\r\\n        <a href='/process/logout'>로그아웃하기</a>\\r\\n    </body>\\r\\n</html>\""
      ]
     },
     "execution_count": 19,
     "metadata": {},
     "output_type": "execute_result"
    }
   ],
   "source": [
    "response = session.get('http://localhost:3000/process/product')\n",
    "response.text"
   ]
  },
  {
   "cell_type": "markdown",
   "metadata": {},
   "source": [
    "# 파일 업로드 기능 만들기\n",
    "* 파일 업로드 시 POST 방식으로 요청해야 하며 body-parser 미들웨어 사용 필요\n",
    "* fs, cors 모듈도 사용\n",
    "```\n",
    "    //파일 업로드용 미들웨어\n",
    "    var multer = require('multer');\n",
    "    var fs = require('fs');\n",
    "    \n",
    "    //클라이언트에서 ajax로 요청 시 CORS(다중 서버 접속) 지원\n",
    "    var cors = require('cors');\n",
    "```"
   ]
  },
  {
   "cell_type": "code",
   "execution_count": 24,
   "metadata": {
    "collapsed": false
   },
   "outputs": [
    {
     "name": "stdout",
     "output_type": "stream",
     "text": [
      "Overwriting ./src/app6.js\n"
     ]
    }
   ],
   "source": [
    "%%writefile ./src/app6.js\n",
    "var express = require('express');\n",
    "var http = require('http');\n",
    "var static = require('serve-static');\n",
    "var path = require('path');\n",
    "\n",
    "var bodyParser = require('body-parser'); //추가 설치 필요\n",
    "var cookieParser = require('cookie-parser');\n",
    "var expressSession = require('express-session');\n",
    "\n",
    "var multer = require('multer');\n",
    "var fs = require('fs');\n",
    "\n",
    "var cors = require('cors');\n",
    "\n",
    "var app = express();\n",
    "\n",
    "app.set('port', process.env.PORT || 3000);\n",
    "app.use('/public', static(path.join(__dirname, 'public'))); //middleware\n",
    "app.use('/uploads', static(path.join(__dirname, 'uploads')));\n",
    "\n",
    "//외장 모듈 미들웨어 등록(body로 들어가는 파라미터를 처리하기 위함)\n",
    "app.use(bodyParser.urlencoded({extended:false}));\n",
    "app.use(bodyParser.json());\n",
    "\n",
    "app.use(cookieParser());\n",
    "app.use(expressSession({\n",
    "    secret:'my key',\n",
    "    resave:true,\n",
    "    saveUninitialized:true\n",
    "}));\n",
    "\n",
    "app.use(cors());\n",
    "\n",
    "var storage = multer.diskStorage({\n",
    "    destination: function(req, file, callback) {\n",
    "        callback(null, 'uploads');\n",
    "    },\n",
    "    filename:function(req, file, callback) {\n",
    "        //callback(null, file.originalname + Date.now());\n",
    "        var extension = path.extname(file.originalname);\n",
    "        var basename = path.basename(file.originalname, extension);\n",
    "        callback(null, basename + Date.now() + extension);\n",
    "    }\n",
    "})\n",
    "\n",
    "var upload = multer({\n",
    "    storage:storage,\n",
    "    limits:{\n",
    "        files:10,\n",
    "        fileSize:1024*1024*1024\n",
    "    }\n",
    "})\n",
    "\n",
    "var router = express.Router();\n",
    "\n",
    "//photo란 이름으로 넘어온 것을 배열에 들어가도록 함.\n",
    "router.route('/process/photo').post(upload.array('photo', 1), function(req,res) {\n",
    "    console.log('/process/photo 라우팅 함수 호출됨.');\n",
    "\n",
    "    var files = req.files;\n",
    "    console.log('=== 업로드된 파일 ===');\n",
    "    console.log('파일 개수 : ' + files.length);\n",
    "    if(files.length > 0){\n",
    "        console.dir(files[0]); //첫번째 파일\n",
    "    } else {\n",
    "        console.log('파일이 없습니다.');    \n",
    "    }\n",
    "        \n",
    "    var originalname;\n",
    "    var filename;\n",
    "    var mimetype;\n",
    "    var size;\n",
    "        \n",
    "    if(Array.isArray(files)) {\n",
    "        for(var i = 0; i<files.length; i++){\n",
    "            originalname = files[i].originalname;\n",
    "            filename = files[i].filename;\n",
    "            mimetype = files[i].mimetype;\n",
    "            size = files[i].size;\n",
    "        }\n",
    "    }\n",
    "    \n",
    "    res.writeHead(200, {\"Content-Type\":\"text/html;charset=utf8\"});\n",
    "    res.write(\"<h1>파일 업로드 성공</h1>\");\n",
    "    res.write(\"<p>원본파일 : \" + originalname + \"</p>\");\n",
    "    res.write(\"<p>저장파일 : \" + filename + \"</p>\");\n",
    "    res.end();\n",
    "})\n",
    "\n",
    "router.route('/process/product').get(function(req, res) {\n",
    "    console.log('/process/product 라우팅 함수 호출됨.');\n",
    "        \n",
    "    if (req.session.user) {\n",
    "        res.redirect('/public/product.html');    \n",
    "    } else {\n",
    "        res.redirect('/public/login.html');    \n",
    "    }\n",
    "});\n",
    "\n",
    "router.route('/process/login').post(function(req, res) {\n",
    "    console.log('/process/login 라우팅 함수 호출됨.');\n",
    "    var paramId = req.body.id || req.query.id;\n",
    "    var paramPassword = req.body.password || req.query.password;\n",
    "    console.log('요청 파라미터 : ' + paramId + ', ' + paramPassword);\n",
    "    \n",
    "    if (req.session.user) {\n",
    "        console.log('이미 로그인되어 있습니다.');\n",
    "        \n",
    "        res.redirect('/public/product.html');\n",
    "    } else {\n",
    "        req.session.user = {\n",
    "            id:paramId,\n",
    "            name:'donggyu',\n",
    "            authorized:true,\n",
    "        };\n",
    "        res.writeHead(200, {\"Content-Type\":\"text/html;charset=utf8\"});\n",
    "        res.write(\"<h1>로그인 성공</h1>\")\n",
    "        res.write('<p>ID : ' + paramId + '</p>');\n",
    "        res.write('<br><br><a href=\"/process/product\">상품 페이지로 이동하기\\\n",
    "        </a>');\n",
    "        res.end();\n",
    "    }\n",
    "    \n",
    "});\n",
    "\n",
    "router.route('/process/logout').get(function(req, res) {\n",
    "    console.log('/process/logout 라우팅 함수 호출됨.');\n",
    "\n",
    "    if(req.session.user) {\n",
    "        console.log('로그아웃합니다.');\n",
    "\n",
    "        req.session.destroy(function(err) {\n",
    "            if(err){\n",
    "                console.log('세션 삭제 시 에러 발생.');\n",
    "                return;\n",
    "            }\n",
    "            console.log('세션 삭제 성공.');\n",
    "            res.redirect('/public/login.html');\n",
    "        })\n",
    "    } else {\n",
    "        console.log('로그인되어 있지 않습니다.');\n",
    "        res.redirect('/public/login.html');\n",
    "    }\n",
    "})\n",
    "\n",
    "router.route('/process/setUserCookie').get(function(req, res) {\n",
    "    console.log('/process/setUserCookie 라우팅 함수 호출됨.');\n",
    "\n",
    "    res.cookie('user', {\n",
    "            id:'mike',\n",
    "            name:'hello',\n",
    "            authorized:true\n",
    "    });\n",
    "    res.redirect('/process/showCookie');\n",
    "});\n",
    "\n",
    "router.route('/process/showCookie').get(function(req, res) {\n",
    "    console.log('/process/showCookie 라우팅 함수 호출됨.');\n",
    "    \n",
    "    res.send(req.cookies);\n",
    "});\n",
    "\n",
    "app.use('/', router);\n",
    "\n",
    "app.all('*', function(req, res) {\n",
    "        res.status(404).send('<h1>요청하신 페이지는 없어용.</h1>');\n",
    "});\n",
    "\n",
    "//app.get 은 app.set으로 설정한 속성의 값을 가져오는 것\n",
    "var server = http.createServer(app).listen(app.get('port'), function(){\n",
    "    console.log('익스프레스로 웹 서버를 실행함 : ' + app.get('port'));\n",
    "})"
   ]
  },
  {
   "cell_type": "code",
   "execution_count": 21,
   "metadata": {
    "collapsed": false
   },
   "outputs": [
    {
     "name": "stdout",
     "output_type": "stream",
     "text": [
      "Writing ./src/public/photo.html\n"
     ]
    }
   ],
   "source": [
    "%%writefile ./src/public/photo.html\n",
    "<!DOCTYPE html>\n",
    "<html>\n",
    "    <head>\n",
    "        <meta charset='utf-8'>\n",
    "        <title>파일 업로드</title>\n",
    "    </head>\n",
    "    <body>\n",
    "        <h1>파일 업로드</h1>\n",
    "        <br>\n",
    "        <form method=\"post\" action=\"/process/photo\" enctype=\"multipart/form-data\">\n",
    "            <table>\n",
    "                <tr>\n",
    "                    <td><label>파일</label></td>\n",
    "                    <td><input type=\"file\" name=\"photo\"></td>\n",
    "                </tr>\n",
    "            </table>\n",
    "            <input type=\"submit\" value=\"업로드\" name=\"submit\">\n",
    "        </form>\n",
    "    </body>\n",
    "</html>"
   ]
  },
  {
   "cell_type": "markdown",
   "metadata": {},
   "source": [
    "<html>\n",
    "    <head>\n",
    "        <meta charset='utf-8'>\n",
    "        <title>파일 업로드</title>\n",
    "    </head>\n",
    "    <body>\n",
    "        <h1>파일 업로드</h1>\n",
    "        <br>\n",
    "        <form method=\"post\" action=\"/process/photo\" enctype=\"multipart/form-data\">\n",
    "            <table>\n",
    "                <tr>\n",
    "                    <td><label>파일</label></td>\n",
    "                    <td><input type=\"file\" name=\"photo\"></td>\n",
    "                </tr>\n",
    "            </table>\n",
    "            <input type=\"submit\" value=\"업로드\" name=\"submit\">\n",
    "        </form>\n",
    "    </body>\n",
    "</html>"
   ]
  },
  {
   "cell_type": "markdown",
   "metadata": {},
   "source": [
    "```\n",
    "D:\\폴더\\학교\\졸프\\evote-project\\WebServer\\Study\\src>npm install multer --save\n",
    "npm WARN saveError ENOENT: no such file or directory, open 'D:\\폴더\\학교\\졸프\\evote-project\\WebServer\\Study\\src\\package.json'\n",
    "npm WARN enoent ENOENT: no such file or directory, open 'D:\\폴더\\학교\\졸프\\evote-project\\WebServer\\Study\\src\\package.json'\n",
    "npm WARN src No description\n",
    "npm WARN src No repository field.\n",
    "npm WARN src No README data\n",
    "npm WARN src No license field.\n",
    "\n",
    "+ multer@1.4.2\n",
    "added 21 packages from 13 contributors and audited 120 packages in 2.678s\n",
    "found 0 vulnerabilities\n",
    "\n",
    "\n",
    "D:\\폴더\\학교\\졸프\\evote-project\\WebServer\\Study\\src>npm install cors --save\n",
    "npm WARN saveError ENOENT: no such file or directory, open 'D:\\폴더\\학교\\졸프\\evote-project\\WebServer\\Study\\src\\package.json'\n",
    "npm WARN enoent ENOENT: no such file or directory, open 'D:\\폴더\\학교\\졸프\\evote-project\\WebServer\\Study\\src\\package.json'\n",
    "npm WARN src No description\n",
    "npm WARN src No repository field.\n",
    "npm WARN src No README data\n",
    "npm WARN src No license field.\n",
    "\n",
    "+ cors@2.8.5\n",
    "added 1 package from 1 contributor and audited 132 packages in 1.154s\n",
    "found 0 vulnerabilities\n",
    "```"
   ]
  },
  {
   "cell_type": "code",
   "execution_count": 25,
   "metadata": {
    "collapsed": false
   },
   "outputs": [
    {
     "data": {
      "image/png": "[encoded data removed]",
      "text/plain": [
       "<PIL.PngImagePlugin.PngImageFile image mode=RGBA size=48x48 at 0x23725C454A8>"
      ]
     },
     "execution_count": 25,
     "metadata": {},
     "output_type": "execute_result"
    }
   ],
   "source": [
    "URL = 'http://localhost:3000/uploads/house1591988608576.png'\n",
    "response = requests.get(URL)\n",
    "#response.text\n",
    "img = Image.open(BytesIO(response.content))\n",
    "img"
   ]
  },
  {
   "cell_type": "markdown",
   "metadata": {},
   "source": [
    "```\n",
    "D:\\폴더\\학교\\졸프\\evote-project\\WebServer\\Study\\src>node app6.js\n",
    "익스프레스로 웹 서버를 실행함 : 3000\n",
    "/process/photo 라우팅 함수 호출됨.\n",
    "=== 업로드된 파일 ===\n",
    "파일 개수 : 1\n",
    "{ fieldname: 'photo',\n",
    "  originalname: 'house.png',\n",
    "  encoding: '7bit',\n",
    "  mimetype: 'image/png',\n",
    "  destination: 'uploads',\n",
    "  filename: 'house1591988608576.png',\n",
    "  path: 'uploads\\\\house1591988608576.png',\n",
    "  size: 320 }\n",
    "```"
   ]
  },
  {
   "cell_type": "code",
   "execution_count": 3,
   "metadata": {
    "collapsed": false
   },
   "outputs": [
    {
     "data": {
      "image/png": "[encoded data removed]",
      "text/plain": [
       "<PIL.PngImagePlugin.PngImageFile image mode=RGBA size=310x156 at 0x28D97915AC8>"
      ]
     },
     "execution_count": 3,
     "metadata": {},
     "output_type": "execute_result"
    }
   ],
   "source": [
    "URL = 'http://localhost:3000/public/fileuploaded.png'\n",
    "response = requests.get(URL)\n",
    "#response.text\n",
    "img = Image.open(BytesIO(response.content))\n",
    "img"
   ]
  },
  {
   "cell_type": "markdown",
   "metadata": {},
   "source": [
    "# 5장 끝.\n",
    "# 6장 데이터베이스 사용하기 노트 참고"
   ]
  }
 ],
 "metadata": {
  "anaconda-cloud": {},
  "kernelspec": {
   "display_name": "Python [default]",
   "language": "python",
   "name": "python3"
  }
 },
 "nbformat": 4,
 "nbformat_minor": 2
}
