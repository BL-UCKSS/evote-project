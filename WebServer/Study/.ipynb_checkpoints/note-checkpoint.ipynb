{
 "cells": [
  {
   "cell_type": "markdown",
   "metadata": {},
   "source": [
    "# 1.간단한웹서버만들기"
   ]
  },
  {
   "cell_type": "code",
   "execution_count": 3,
   "metadata": {
    "collapsed": false
   },
   "outputs": [
    {
     "name": "stdout",
     "output_type": "stream",
     "text": [
      "Writing ./src/app1.js\n"
     ]
    }
   ],
   "source": [
    "%%writefile ./src/app1.js\n",
    "//모듈 가져오기\n",
    "var http = require('http');\n",
    "\n",
    "//웹 서버 객체 생성\n",
    "var server = http.createServer();\n",
    "\n",
    "//호스트 IP주소\n",
    "var host = 'localhost';\n",
    "//포트 번호 3000번\n",
    "var port = 3000;\n",
    "//3000번으로 port listening(클라이언트로부터 요청을 대기)\n",
    "//50000는 동시접속자 가능 수(백로그)\n",
    "server.listen(port, host, 50000, function(){\n",
    "    console.log(\"웹서버가 실행되었습니다 -> \" + host + ':' + port);\n",
    "})\n",
    "\n",
    "//http://localhost:3000 으로 접속하면\n",
    "//무한 루프가 동작된다.\n",
    "//왜냐하면 응답으로 주어진 것이 없어임.\n",
    "\n",
    "//이벤트 connection이 들어오면 어떤 동작을 함.\n",
    "//보통 client가 서버에 접속하면 이벤트 발생함\n",
    "server.on('connection', function(socket) {\n",
    "    console.log('클라이언트가 접속했음');\n",
    "})\n",
    "\n",
    "server.on('request', function(req, res) {\n",
    "    console.log('클라이언트 요청옴.');\n",
    "    //req 객체 구조 출력\n",
    "    //console.dir(req);\n",
    "\n",
    "    //응답으로 보낼 헤더 작성\n",
    "    //res.writeHead(200, {\"Content-Type\":\"text/html;charset=utf-8\"});\n",
    "    //응답 본문(body) 데이터를 만듬. 여러번 호출 가능.\n",
    "    //res.write('<h1>웹서버로부터 받음</h1>');\n",
    "    //클라이언트로 응답 전송\n",
    "    //res.end();\n",
    "\n",
    "    //이미지만 출력하기\n",
    "    //var filename = 'house.png';\n",
    "    //fs.readFile(filename, function(err,data) {\n",
    "    //\tres.writeHead(200, {\"Content-Type\":\"image/png\"});\n",
    "    //\tres.write(data);\n",
    "    //\tres.end();\n",
    "    //});\n",
    "\n",
    "    \n",
    "});\n",
    "\n"
   ]
  },
  {
   "cell_type": "markdown",
   "metadata": {},
   "source": [
    "# 2.익스프레스로웹서버만들기"
   ]
  },
  {
   "cell_type": "code",
   "execution_count": 4,
   "metadata": {
    "collapsed": false
   },
   "outputs": [
    {
     "name": "stdout",
     "output_type": "stream",
     "text": [
      "Writing ./src/app2.js\n"
     ]
    }
   ],
   "source": [
    "%%writefile ./src/app2.js\n",
    "var express = require('express');\n",
    "var http = require('http');\n",
    "\n",
    "var app = express();\n",
    "\n",
    "//express객체에 port 속성을 설정한다.\n",
    "//시스템환경변수가 존재하지 않다면 3000번 사용\n",
    "app.set('port', process.env.PORT || 3000);\n",
    "\n",
    "//middleware\n",
    "app.use(function(req, res, next) {\n",
    "    console.log('첫번째 미들웨어 호출됨.');\n",
    "\n",
    "    res.writeHead(200, {\"Content-Type\":\"text/html;charset=utf-8\"});\n",
    "    res.end('<h1>서버에서 응답한 결과입니다.</h1>');\n",
    "})\n",
    "\n",
    "//app.get 은 app.set으로 설정한 속성의 값을 가져오는 것\n",
    "var server = http.createServer(app).listen(app.get('port'), function(){\n",
    "    console.log('익스프레스로 웹 서버를 실행함 : ' + app.get('port'));\n",
    "\n",
    "    \n",
    "})\n",
    "\n"
   ]
  },
  {
   "cell_type": "code",
   "execution_count": null,
   "metadata": {
    "collapsed": true
   },
   "outputs": [],
   "source": []
  }
 ],
 "metadata": {
  "anaconda-cloud": {},
  "kernelspec": {
   "display_name": "Python [default]",
   "language": "python",
   "name": "python3"
  },
  "language_info": {
   "codemirror_mode": {
    "name": "ipython",
    "version": 3
   },
   "file_extension": ".py",
   "mimetype": "text/x-python",
   "name": "python",
   "nbconvert_exporter": "python",
   "pygments_lexer": "ipython3",
   "version": "3.5.6"
  }
 },
 "nbformat": 4,
 "nbformat_minor": 2
}
